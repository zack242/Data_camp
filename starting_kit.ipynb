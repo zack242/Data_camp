{
 "cells": [
  {
   "cell_type": "markdown",
   "id": "a4aa90d6",
   "metadata": {},
   "source": [
    "# **Beijing multii-site air quality prediction**"
   ]
  },
  {
   "attachments": {},
   "cell_type": "markdown",
   "id": "a289cb16",
   "metadata": {},
   "source": [
    "This data challenge was made by students of the Master 2 Data Science at Ecole Polytechnique for the data camp:\n",
    "\n",
    "<img src=\"https://github.com/zack242/Data_camp/blob/master/img/IPP.jpg?raw=true\">\n",
    "\n",
    "$ \\textit{Authors : } $\n",
    "\n",
    "The data used for this challenge is the Beijing Multi-Site Air-Quality:\n",
    "\n",
    "    Dua, D. and Graff, C. (2019). UCI Machine Learning Repository [http://archive.ics.uci.edu/ml]. Irvine, CA: University of California, School of Information and Computer Science."
   ]
  },
  {
   "attachments": {},
   "cell_type": "markdown",
   "id": "d7e589e7",
   "metadata": {},
   "source": [
    "<img src=\"https://github.com/zack242/Data_camp/blob/master/img/UCI.jpg?raw=true\">"
   ]
  },
  {
   "cell_type": "markdown",
   "id": "06c32f3b",
   "metadata": {},
   "source": [
    "## **Introduction**\n",
    "\n",
    "###  **Problem statement**\n",
    "\n",
    "#### **Worlwide air pollution**\n",
    "\n",
    "\n",
    "Air pollution is a major environmental concern, with detrimental effects on human health and the environment. Among various air pollutants, fine particulate matter (PM2.5) has been identified as a significant contributor to air pollution-related health problems. PM2.5 refers to tiny particles in the air that can be inhaled into the lungs, causing respiratory and cardiovascular problems, as well as contributing to other health problems such as asthma, chronic bronchitis, and heart disease.\n",
    "\n",
    "Air pollution is a leading cause of premature deaths and health problems worldwide. According to the World Health Organization (WHO), outdoor air pollution is responsible for an estimated 4.2 million deaths annually.In addition to its impact on human health, air pollution also has a significant economic cost, including healthcare expenses, lost productivity, and environmental damage. Therefore, addressing air pollution is a critical public health and environmental challenge, requiring effective policies and actions to reduce emissions and promote clean energy and sustainable development.\n",
    "\n",
    "\n",
    "#### **Goverment and data driven solution** :\n",
    "\n",
    "Governments worldwide have implemented various policies and initiatives to combat air pollution and promote clean air. Some of these include emission standards for vehicles and industrial sources, incentives for clean energy and public transportation, and measures to reduce outdoor burning and open waste disposal. International agreements like the Paris Agreement and the Sustainable Development Goals also aim to reduce greenhouse gas emissions and promote sustainable development. However, to effectively tackle air pollution, it's crucial to continuously monitor and assess air quality and identify effective strategies for emission reduction. The use of meteorological data can play a critical role in achieving this. By leveraging meteorological data and advanced analytics, we can gain valuable insights into air pollution patterns, identify sources and hotspots of pollution, and evaluate the effectiveness of policy interventions. Ultimately, by using data-driven solutions, we can address air pollution and promote a cleaner and healthier environment for all."
   ]
  },
  {
   "cell_type": "markdown",
   "id": "e4c1d942",
   "metadata": {},
   "source": [
    "Meteorological factors, such as temperature, humidity, wind speed, and precipitation, play a crucial role in the formation, dispersion, and transport of PM2.5. Therefore, predicting PM2.5 levels based on meteorological data can provide valuable insights for air quality management and public health protection.\n"
   ]
  },
  {
   "cell_type": "markdown",
   "id": "bb554846",
   "metadata": {},
   "source": [
    "## Getting started with the RAMP starting kit\n",
    "\n",
    "### Software prerequisites\n",
    "\n",
    "This starting kit requires the following dependencies:\n",
    "\n",
    "* `numpy`\n",
    "* `pandas`\n",
    "* `request`\n",
    "* `scikit-learn`\n",
    "* `matplolib`\n",
    "* `ramp`\n",
    "* `jupyter`\n",
    "* `seaborn`\n",
    "* `plotly`"
   ]
  },
  {
   "cell_type": "code",
   "execution_count": 1,
   "id": "9d88f6c9",
   "metadata": {},
   "outputs": [
    {
     "name": "stderr",
     "output_type": "stream",
     "text": [
      "<frozen importlib._bootstrap>:228: RuntimeWarning: scipy._lib.messagestream.MessageStream size changed, may indicate binary incompatibility. Expected 56 from C header, got 64 from PyObject\n"
     ]
    }
   ],
   "source": [
    "%matplotlib inline\n",
    "\n",
    "import warnings\n",
    "warnings.simplefilter(action='ignore', category=FutureWarning)\n",
    "\n",
    "import numpy as np\n",
    "import pandas as pd\n",
    "import matplotlib.pyplot as plt\n",
    "import seaborn as sns\n",
    "import plotly.express as px\n",
    "import plotly.graph_objects as go"
   ]
  },
  {
   "cell_type": "markdown",
   "id": "35dbf422",
   "metadata": {},
   "source": [
    "## **Data**\n",
    "\n",
    "## **Description and utility for the challenge**\n",
    "For this challenge, participants will be using meteorological data from different stations in Beijing, which will be merged to create a comprehensive dataset. This is important because air pollution levels can vary significantly across different areas of a city, depending on factors such as traffic density, industrial activity, and weather patterns. By combining data from multiple stations, we can capture this variation and obtain a more accurate representation of air quality across the city. The merged dataset will include various meteorological variables such as temperature, humidity, wind speed, and precipitation, as well as PM2.5 concentrations, which will serve as the target variable for the predictive model. Participants will be tasked with developing a model that can accurately predict PM2.5 concentrations based on the available meteorological data, with the ultimate goal of identifying effective strategies for air pollution reduction and promoting public health and environmental sustainability. \n",
    "\n",
    "<br>\n",
    "<center>\n",
    "<img src=\"https://github.com/zack242/Data_camp/blob/master/img/beijing.jpg?raw=true\" height=400px widht=700px>\n",
    "</center>\n"
   ]
  },
  {
   "cell_type": "markdown",
   "id": "8034afc8",
   "metadata": {},
   "source": [
    "The csv files of the data from the different stations are first merged to obtain a new table with all the data. It is sorted in chronological order.\n",
    "\n",
    "Then, the data from the 'wd' column regarding the wind direction (North North West, East, etc.) are converted into degrees in order to facilitate their manipulation (e.g. to calculate averages or to visualize the data).\n",
    "\n",
    "The data are then divided into a training set of the first data in chronological order (2/3) and a test set of the last data (last 1/3).\n",
    "\n",
    "Then, we check the presence of missing values, we calculate the median values on the columns of the training set (except for the column 'NO2' where we take the average value) and we replace the missing values on the training and test sets by these values on the corresponding columns.\n",
    "\n",
    "Finally, we remove the redundant or useless columns such as 'No' and the columns concerning a temporal statement because the data are now already indexed on the date (year - month - day - hour), in chronological order."
   ]
  },
  {
   "cell_type": "markdown",
   "id": "6a9d06e3",
   "metadata": {},
   "source": [
    "### Getting the data\n",
    "\n",
    "The data can be downloaded by running:\n",
    "\n",
    "    python download_data.py"
   ]
  },
  {
   "cell_type": "code",
   "execution_count": 2,
   "id": "90a97218",
   "metadata": {},
   "outputs": [
    {
     "name": "stdout",
     "output_type": "stream",
     "text": [
      "---------------------Downloading data ---------------------\n",
      "File downloaded and saved to ./Data/Airqualitydata.zip\n",
      "---------------------Merging data ---------------------\n",
      "Data merged and saved to ./Data/merged_data.csv\n",
      "---------------------Preprocessing data---------------------\n",
      "Train and test sets saved to ./Data/train.csv and ./Data/test.csv\n",
      "---------------------Done---------------------\n"
     ]
    }
   ],
   "source": [
    "!run download_data.py"
   ]
  },
  {
   "cell_type": "code",
   "execution_count": 3,
   "id": "dc843562",
   "metadata": {},
   "outputs": [],
   "source": [
    "from problem import get_train_data\n",
    "\n",
    "data_train, labels_train = get_train_data()"
   ]
  },
  {
   "cell_type": "code",
   "execution_count": 4,
   "id": "4fd55542",
   "metadata": {},
   "outputs": [
    {
     "data": {
      "text/plain": [
       "(280512, 17)"
      ]
     },
     "execution_count": 4,
     "metadata": {},
     "output_type": "execute_result"
    }
   ],
   "source": [
    "data_train.shape"
   ]
  },
  {
   "cell_type": "code",
   "execution_count": 5,
   "id": "b721b082",
   "metadata": {},
   "outputs": [
    {
     "data": {
      "text/html": [
       "<div>\n",
       "<style scoped>\n",
       "    .dataframe tbody tr th:only-of-type {\n",
       "        vertical-align: middle;\n",
       "    }\n",
       "\n",
       "    .dataframe tbody tr th {\n",
       "        vertical-align: top;\n",
       "    }\n",
       "\n",
       "    .dataframe thead th {\n",
       "        text-align: right;\n",
       "    }\n",
       "</style>\n",
       "<table border=\"1\" class=\"dataframe\">\n",
       "  <thead>\n",
       "    <tr style=\"text-align: right;\">\n",
       "      <th></th>\n",
       "      <th>Date-time</th>\n",
       "      <th>year</th>\n",
       "      <th>month</th>\n",
       "      <th>day</th>\n",
       "      <th>hour</th>\n",
       "      <th>PM10</th>\n",
       "      <th>SO2</th>\n",
       "      <th>NO2</th>\n",
       "      <th>CO</th>\n",
       "      <th>O3</th>\n",
       "      <th>TEMP</th>\n",
       "      <th>PRES</th>\n",
       "      <th>DEWP</th>\n",
       "      <th>RAIN</th>\n",
       "      <th>wd</th>\n",
       "      <th>WSPM</th>\n",
       "      <th>station</th>\n",
       "    </tr>\n",
       "  </thead>\n",
       "  <tbody>\n",
       "    <tr>\n",
       "      <th>0</th>\n",
       "      <td>2013-03-01 00:00:00</td>\n",
       "      <td>2013</td>\n",
       "      <td>3</td>\n",
       "      <td>1</td>\n",
       "      <td>0</td>\n",
       "      <td>18.0</td>\n",
       "      <td>5.0</td>\n",
       "      <td>198.597724</td>\n",
       "      <td>800.0</td>\n",
       "      <td>88.0</td>\n",
       "      <td>0.1</td>\n",
       "      <td>1021.1</td>\n",
       "      <td>-18.6</td>\n",
       "      <td>0.0</td>\n",
       "      <td>313.315691</td>\n",
       "      <td>4.4</td>\n",
       "      <td>Gucheng</td>\n",
       "    </tr>\n",
       "    <tr>\n",
       "      <th>1</th>\n",
       "      <td>2013-03-01 00:00:00</td>\n",
       "      <td>2013</td>\n",
       "      <td>3</td>\n",
       "      <td>1</td>\n",
       "      <td>0</td>\n",
       "      <td>4.0</td>\n",
       "      <td>4.0</td>\n",
       "      <td>7.000000</td>\n",
       "      <td>300.0</td>\n",
       "      <td>77.0</td>\n",
       "      <td>-0.7</td>\n",
       "      <td>1023.0</td>\n",
       "      <td>-18.8</td>\n",
       "      <td>0.0</td>\n",
       "      <td>344.435748</td>\n",
       "      <td>4.4</td>\n",
       "      <td>Aotizhongxin</td>\n",
       "    </tr>\n",
       "    <tr>\n",
       "      <th>2</th>\n",
       "      <td>2013-03-01 00:00:00</td>\n",
       "      <td>2013</td>\n",
       "      <td>3</td>\n",
       "      <td>1</td>\n",
       "      <td>0</td>\n",
       "      <td>6.0</td>\n",
       "      <td>4.0</td>\n",
       "      <td>8.000000</td>\n",
       "      <td>300.0</td>\n",
       "      <td>81.0</td>\n",
       "      <td>-0.5</td>\n",
       "      <td>1024.5</td>\n",
       "      <td>-21.4</td>\n",
       "      <td>0.0</td>\n",
       "      <td>344.435748</td>\n",
       "      <td>5.7</td>\n",
       "      <td>Tiantan</td>\n",
       "    </tr>\n",
       "    <tr>\n",
       "      <th>3</th>\n",
       "      <td>2013-03-01 00:00:00</td>\n",
       "      <td>2013</td>\n",
       "      <td>3</td>\n",
       "      <td>1</td>\n",
       "      <td>0</td>\n",
       "      <td>4.0</td>\n",
       "      <td>3.0</td>\n",
       "      <td>212.277977</td>\n",
       "      <td>200.0</td>\n",
       "      <td>82.0</td>\n",
       "      <td>-2.3</td>\n",
       "      <td>1020.8</td>\n",
       "      <td>-19.7</td>\n",
       "      <td>0.0</td>\n",
       "      <td>86.197752</td>\n",
       "      <td>0.5</td>\n",
       "      <td>Dingling</td>\n",
       "    </tr>\n",
       "    <tr>\n",
       "      <th>4</th>\n",
       "      <td>2013-03-01 00:00:00</td>\n",
       "      <td>2013</td>\n",
       "      <td>3</td>\n",
       "      <td>1</td>\n",
       "      <td>0</td>\n",
       "      <td>7.0</td>\n",
       "      <td>3.0</td>\n",
       "      <td>2.000000</td>\n",
       "      <td>100.0</td>\n",
       "      <td>91.0</td>\n",
       "      <td>-2.3</td>\n",
       "      <td>1020.3</td>\n",
       "      <td>-20.7</td>\n",
       "      <td>0.0</td>\n",
       "      <td>289.226673</td>\n",
       "      <td>3.1</td>\n",
       "      <td>Huairou</td>\n",
       "    </tr>\n",
       "  </tbody>\n",
       "</table>\n",
       "</div>"
      ],
      "text/plain": [
       "             Date-time  year  month  day  hour  PM10  SO2         NO2     CO  \\\n",
       "0  2013-03-01 00:00:00  2013      3    1     0  18.0  5.0  198.597724  800.0   \n",
       "1  2013-03-01 00:00:00  2013      3    1     0   4.0  4.0    7.000000  300.0   \n",
       "2  2013-03-01 00:00:00  2013      3    1     0   6.0  4.0    8.000000  300.0   \n",
       "3  2013-03-01 00:00:00  2013      3    1     0   4.0  3.0  212.277977  200.0   \n",
       "4  2013-03-01 00:00:00  2013      3    1     0   7.0  3.0    2.000000  100.0   \n",
       "\n",
       "     O3  TEMP    PRES  DEWP  RAIN          wd  WSPM       station  \n",
       "0  88.0   0.1  1021.1 -18.6   0.0  313.315691   4.4       Gucheng  \n",
       "1  77.0  -0.7  1023.0 -18.8   0.0  344.435748   4.4  Aotizhongxin  \n",
       "2  81.0  -0.5  1024.5 -21.4   0.0  344.435748   5.7       Tiantan  \n",
       "3  82.0  -2.3  1020.8 -19.7   0.0   86.197752   0.5      Dingling  \n",
       "4  91.0  -2.3  1020.3 -20.7   0.0  289.226673   3.1       Huairou  "
      ]
     },
     "execution_count": 5,
     "metadata": {},
     "output_type": "execute_result"
    }
   ],
   "source": [
    "data_train.head()"
   ]
  },
  {
   "cell_type": "code",
   "execution_count": 6,
   "id": "f637ac72",
   "metadata": {},
   "outputs": [
    {
     "data": {
      "text/plain": [
       "array([ 6.,  4.,  6., ..., 63., 55., 48.])"
      ]
     },
     "execution_count": 6,
     "metadata": {},
     "output_type": "execute_result"
    }
   ],
   "source": [
    "labels_train"
   ]
  },
  {
   "cell_type": "markdown",
   "id": "d5c19da2",
   "metadata": {},
   "source": [
    "\n",
    "## **Features**\n",
    "\n",
    "- **year**: year of data in this row\n",
    "- **month**: month of data in this row\n",
    "- **day**: day of data in this row\n",
    "- **hour**: hour of data in this row\n",
    "- **PM2.5**: PM2.5 concentration (ug/m$^3$) (This will be our target)\n",
    "- **PM10**: PM10 concentration (ug/m$^3$)\n",
    "- **SO2**: SO2 concentration (ug/m$^3$)\n",
    "- **NO2**: NO2 concentration (ug/m$^3$)\n",
    "- **CO**: CO concentration (ug/m$^3$)\n",
    "- **O3**: O3 concentration (ug/m$^3$)\n",
    "- **TEMP**: temperature (degree Celsius)\n",
    "- **PRES**: pressure (hPa)\n",
    "- **DEWP**: dew point temperature (degree Celsius)\n",
    "- **RAIN**: precipitation (mm)\n",
    "- **wd**: wind direction\n",
    "- **WSPM**: wind speed (m/s)\n",
    "- **station**: name of the air-quality monitoring site"
   ]
  },
  {
   "cell_type": "code",
   "execution_count": 7,
   "id": "5c891092",
   "metadata": {},
   "outputs": [
    {
     "name": "stdout",
     "output_type": "stream",
     "text": [
      "<class 'pandas.core.frame.DataFrame'>\n",
      "RangeIndex: 280512 entries, 0 to 280511\n",
      "Data columns (total 17 columns):\n",
      " #   Column     Non-Null Count   Dtype  \n",
      "---  ------     --------------   -----  \n",
      " 0   Date-time  280512 non-null  object \n",
      " 1   year       280512 non-null  int64  \n",
      " 2   month      280512 non-null  int64  \n",
      " 3   day        280512 non-null  int64  \n",
      " 4   hour       280512 non-null  int64  \n",
      " 5   PM10       280512 non-null  float64\n",
      " 6   SO2        280512 non-null  float64\n",
      " 7   NO2        280512 non-null  float64\n",
      " 8   CO         280512 non-null  float64\n",
      " 9   O3         280512 non-null  float64\n",
      " 10  TEMP       280512 non-null  float64\n",
      " 11  PRES       280512 non-null  float64\n",
      " 12  DEWP       280512 non-null  float64\n",
      " 13  RAIN       280512 non-null  float64\n",
      " 14  wd         280512 non-null  float64\n",
      " 15  WSPM       280512 non-null  float64\n",
      " 16  station    280512 non-null  object \n",
      "dtypes: float64(11), int64(4), object(2)\n",
      "memory usage: 36.4+ MB\n"
     ]
    }
   ],
   "source": [
    "data_train.info()"
   ]
  },
  {
   "cell_type": "markdown",
   "id": "80d86f24",
   "metadata": {},
   "source": [
    "Note that the data has no missing values. We use the `.describe()` method to display descriptive statistics that provide a summary of a dataset's distribution, including measures of central tendency, dispersion, and shape. "
   ]
  },
  {
   "cell_type": "code",
   "execution_count": 8,
   "id": "6def8bfa",
   "metadata": {},
   "outputs": [
    {
     "data": {
      "text/html": [
       "<div>\n",
       "<style scoped>\n",
       "    .dataframe tbody tr th:only-of-type {\n",
       "        vertical-align: middle;\n",
       "    }\n",
       "\n",
       "    .dataframe tbody tr th {\n",
       "        vertical-align: top;\n",
       "    }\n",
       "\n",
       "    .dataframe thead th {\n",
       "        text-align: right;\n",
       "    }\n",
       "</style>\n",
       "<table border=\"1\" class=\"dataframe\">\n",
       "  <thead>\n",
       "    <tr style=\"text-align: right;\">\n",
       "      <th></th>\n",
       "      <th>PM10</th>\n",
       "      <th>SO2</th>\n",
       "      <th>NO2</th>\n",
       "      <th>CO</th>\n",
       "      <th>O3</th>\n",
       "      <th>TEMP</th>\n",
       "      <th>PRES</th>\n",
       "      <th>DEWP</th>\n",
       "      <th>RAIN</th>\n",
       "      <th>wd</th>\n",
       "      <th>WSPM</th>\n",
       "    </tr>\n",
       "  </thead>\n",
       "  <tbody>\n",
       "    <tr>\n",
       "      <th>count</th>\n",
       "      <td>280512.000000</td>\n",
       "      <td>280512.000000</td>\n",
       "      <td>280512.000000</td>\n",
       "      <td>280512.000000</td>\n",
       "      <td>280512.000000</td>\n",
       "      <td>280512.000000</td>\n",
       "      <td>280512.000000</td>\n",
       "      <td>280512.000000</td>\n",
       "      <td>280512.000000</td>\n",
       "      <td>280512.000000</td>\n",
       "      <td>280512.000000</td>\n",
       "    </tr>\n",
       "    <tr>\n",
       "      <th>mean</th>\n",
       "      <td>105.406720</td>\n",
       "      <td>17.753706</td>\n",
       "      <td>55.071687</td>\n",
       "      <td>1152.813224</td>\n",
       "      <td>60.565993</td>\n",
       "      <td>15.090202</td>\n",
       "      <td>1009.172454</td>\n",
       "      <td>4.016434</td>\n",
       "      <td>0.065810</td>\n",
       "      <td>182.738288</td>\n",
       "      <td>1.680927</td>\n",
       "    </tr>\n",
       "    <tr>\n",
       "      <th>std</th>\n",
       "      <td>87.207135</td>\n",
       "      <td>23.892452</td>\n",
       "      <td>41.473302</td>\n",
       "      <td>984.356990</td>\n",
       "      <td>57.423377</td>\n",
       "      <td>10.858715</td>\n",
       "      <td>9.937458</td>\n",
       "      <td>13.530829</td>\n",
       "      <td>0.841598</td>\n",
       "      <td>111.887594</td>\n",
       "      <td>1.238769</td>\n",
       "    </tr>\n",
       "    <tr>\n",
       "      <th>min</th>\n",
       "      <td>2.000000</td>\n",
       "      <td>0.285600</td>\n",
       "      <td>1.026500</td>\n",
       "      <td>100.000000</td>\n",
       "      <td>0.214200</td>\n",
       "      <td>-14.500000</td>\n",
       "      <td>982.400000</td>\n",
       "      <td>-43.400000</td>\n",
       "      <td>0.000000</td>\n",
       "      <td>21.288214</td>\n",
       "      <td>0.000000</td>\n",
       "    </tr>\n",
       "    <tr>\n",
       "      <th>25%</th>\n",
       "      <td>39.000000</td>\n",
       "      <td>3.000000</td>\n",
       "      <td>24.000000</td>\n",
       "      <td>500.000000</td>\n",
       "      <td>14.994000</td>\n",
       "      <td>6.000000</td>\n",
       "      <td>1001.300000</td>\n",
       "      <td>-7.100000</td>\n",
       "      <td>0.000000</td>\n",
       "      <td>86.197752</td>\n",
       "      <td>0.900000</td>\n",
       "    </tr>\n",
       "    <tr>\n",
       "      <th>50%</th>\n",
       "      <td>86.000000</td>\n",
       "      <td>8.000000</td>\n",
       "      <td>45.000000</td>\n",
       "      <td>900.000000</td>\n",
       "      <td>48.000000</td>\n",
       "      <td>16.800000</td>\n",
       "      <td>1008.600000</td>\n",
       "      <td>5.900000</td>\n",
       "      <td>0.000000</td>\n",
       "      <td>173.288853</td>\n",
       "      <td>1.400000</td>\n",
       "    </tr>\n",
       "    <tr>\n",
       "      <th>75%</th>\n",
       "      <td>147.000000</td>\n",
       "      <td>22.000000</td>\n",
       "      <td>75.000000</td>\n",
       "      <td>1400.000000</td>\n",
       "      <td>86.000000</td>\n",
       "      <td>23.900000</td>\n",
       "      <td>1016.600000</td>\n",
       "      <td>16.000000</td>\n",
       "      <td>0.000000</td>\n",
       "      <td>289.226673</td>\n",
       "      <td>2.200000</td>\n",
       "    </tr>\n",
       "    <tr>\n",
       "      <th>max</th>\n",
       "      <td>999.000000</td>\n",
       "      <td>500.000000</td>\n",
       "      <td>290.000000</td>\n",
       "      <td>10000.000000</td>\n",
       "      <td>1071.000000</td>\n",
       "      <td>41.600000</td>\n",
       "      <td>1038.000000</td>\n",
       "      <td>29.100000</td>\n",
       "      <td>72.500000</td>\n",
       "      <td>359.134670</td>\n",
       "      <td>13.200000</td>\n",
       "    </tr>\n",
       "  </tbody>\n",
       "</table>\n",
       "</div>"
      ],
      "text/plain": [
       "                PM10            SO2            NO2             CO  \\\n",
       "count  280512.000000  280512.000000  280512.000000  280512.000000   \n",
       "mean      105.406720      17.753706      55.071687    1152.813224   \n",
       "std        87.207135      23.892452      41.473302     984.356990   \n",
       "min         2.000000       0.285600       1.026500     100.000000   \n",
       "25%        39.000000       3.000000      24.000000     500.000000   \n",
       "50%        86.000000       8.000000      45.000000     900.000000   \n",
       "75%       147.000000      22.000000      75.000000    1400.000000   \n",
       "max       999.000000     500.000000     290.000000   10000.000000   \n",
       "\n",
       "                  O3           TEMP           PRES           DEWP  \\\n",
       "count  280512.000000  280512.000000  280512.000000  280512.000000   \n",
       "mean       60.565993      15.090202    1009.172454       4.016434   \n",
       "std        57.423377      10.858715       9.937458      13.530829   \n",
       "min         0.214200     -14.500000     982.400000     -43.400000   \n",
       "25%        14.994000       6.000000    1001.300000      -7.100000   \n",
       "50%        48.000000      16.800000    1008.600000       5.900000   \n",
       "75%        86.000000      23.900000    1016.600000      16.000000   \n",
       "max      1071.000000      41.600000    1038.000000      29.100000   \n",
       "\n",
       "                RAIN             wd           WSPM  \n",
       "count  280512.000000  280512.000000  280512.000000  \n",
       "mean        0.065810     182.738288       1.680927  \n",
       "std         0.841598     111.887594       1.238769  \n",
       "min         0.000000      21.288214       0.000000  \n",
       "25%         0.000000      86.197752       0.900000  \n",
       "50%         0.000000     173.288853       1.400000  \n",
       "75%         0.000000     289.226673       2.200000  \n",
       "max        72.500000     359.134670      13.200000  "
      ]
     },
     "execution_count": 8,
     "metadata": {},
     "output_type": "execute_result"
    }
   ],
   "source": [
    "data_train[[col for col in data_train.columns if col not in ['No', 'year', 'month', 'day', 'hour']]].describe()"
   ]
  },
  {
   "cell_type": "code",
   "execution_count": 9,
   "id": "28f45c61",
   "metadata": {},
   "outputs": [],
   "source": [
    "df = data_train.copy()"
   ]
  },
  {
   "cell_type": "code",
   "execution_count": 10,
   "id": "e4d7cda1",
   "metadata": {},
   "outputs": [
    {
     "data": {
      "text/html": [
       "<div>\n",
       "<style scoped>\n",
       "    .dataframe tbody tr th:only-of-type {\n",
       "        vertical-align: middle;\n",
       "    }\n",
       "\n",
       "    .dataframe tbody tr th {\n",
       "        vertical-align: top;\n",
       "    }\n",
       "\n",
       "    .dataframe thead th {\n",
       "        text-align: right;\n",
       "    }\n",
       "</style>\n",
       "<table border=\"1\" class=\"dataframe\">\n",
       "  <thead>\n",
       "    <tr style=\"text-align: right;\">\n",
       "      <th></th>\n",
       "      <th>Date-time</th>\n",
       "      <th>year</th>\n",
       "      <th>month</th>\n",
       "      <th>day</th>\n",
       "      <th>hour</th>\n",
       "      <th>PM10</th>\n",
       "      <th>SO2</th>\n",
       "      <th>NO2</th>\n",
       "      <th>CO</th>\n",
       "      <th>O3</th>\n",
       "      <th>TEMP</th>\n",
       "      <th>PRES</th>\n",
       "      <th>DEWP</th>\n",
       "      <th>RAIN</th>\n",
       "      <th>wd</th>\n",
       "      <th>WSPM</th>\n",
       "      <th>station</th>\n",
       "    </tr>\n",
       "    <tr>\n",
       "      <th>fulldate</th>\n",
       "      <th></th>\n",
       "      <th></th>\n",
       "      <th></th>\n",
       "      <th></th>\n",
       "      <th></th>\n",
       "      <th></th>\n",
       "      <th></th>\n",
       "      <th></th>\n",
       "      <th></th>\n",
       "      <th></th>\n",
       "      <th></th>\n",
       "      <th></th>\n",
       "      <th></th>\n",
       "      <th></th>\n",
       "      <th></th>\n",
       "      <th></th>\n",
       "      <th></th>\n",
       "    </tr>\n",
       "  </thead>\n",
       "  <tbody>\n",
       "    <tr>\n",
       "      <th>2013-03-01</th>\n",
       "      <td>2013-03-01 00:00:00</td>\n",
       "      <td>2013</td>\n",
       "      <td>3</td>\n",
       "      <td>1</td>\n",
       "      <td>0</td>\n",
       "      <td>18.0</td>\n",
       "      <td>5.0</td>\n",
       "      <td>198.597724</td>\n",
       "      <td>800.0</td>\n",
       "      <td>88.0</td>\n",
       "      <td>0.1</td>\n",
       "      <td>1021.1</td>\n",
       "      <td>-18.6</td>\n",
       "      <td>0.0</td>\n",
       "      <td>313.315691</td>\n",
       "      <td>4.4</td>\n",
       "      <td>Gucheng</td>\n",
       "    </tr>\n",
       "    <tr>\n",
       "      <th>2013-03-01</th>\n",
       "      <td>2013-03-01 00:00:00</td>\n",
       "      <td>2013</td>\n",
       "      <td>3</td>\n",
       "      <td>1</td>\n",
       "      <td>0</td>\n",
       "      <td>4.0</td>\n",
       "      <td>4.0</td>\n",
       "      <td>7.000000</td>\n",
       "      <td>300.0</td>\n",
       "      <td>77.0</td>\n",
       "      <td>-0.7</td>\n",
       "      <td>1023.0</td>\n",
       "      <td>-18.8</td>\n",
       "      <td>0.0</td>\n",
       "      <td>344.435748</td>\n",
       "      <td>4.4</td>\n",
       "      <td>Aotizhongxin</td>\n",
       "    </tr>\n",
       "    <tr>\n",
       "      <th>2013-03-01</th>\n",
       "      <td>2013-03-01 00:00:00</td>\n",
       "      <td>2013</td>\n",
       "      <td>3</td>\n",
       "      <td>1</td>\n",
       "      <td>0</td>\n",
       "      <td>6.0</td>\n",
       "      <td>4.0</td>\n",
       "      <td>8.000000</td>\n",
       "      <td>300.0</td>\n",
       "      <td>81.0</td>\n",
       "      <td>-0.5</td>\n",
       "      <td>1024.5</td>\n",
       "      <td>-21.4</td>\n",
       "      <td>0.0</td>\n",
       "      <td>344.435748</td>\n",
       "      <td>5.7</td>\n",
       "      <td>Tiantan</td>\n",
       "    </tr>\n",
       "    <tr>\n",
       "      <th>2013-03-01</th>\n",
       "      <td>2013-03-01 00:00:00</td>\n",
       "      <td>2013</td>\n",
       "      <td>3</td>\n",
       "      <td>1</td>\n",
       "      <td>0</td>\n",
       "      <td>4.0</td>\n",
       "      <td>3.0</td>\n",
       "      <td>212.277977</td>\n",
       "      <td>200.0</td>\n",
       "      <td>82.0</td>\n",
       "      <td>-2.3</td>\n",
       "      <td>1020.8</td>\n",
       "      <td>-19.7</td>\n",
       "      <td>0.0</td>\n",
       "      <td>86.197752</td>\n",
       "      <td>0.5</td>\n",
       "      <td>Dingling</td>\n",
       "    </tr>\n",
       "    <tr>\n",
       "      <th>2013-03-01</th>\n",
       "      <td>2013-03-01 00:00:00</td>\n",
       "      <td>2013</td>\n",
       "      <td>3</td>\n",
       "      <td>1</td>\n",
       "      <td>0</td>\n",
       "      <td>7.0</td>\n",
       "      <td>3.0</td>\n",
       "      <td>2.000000</td>\n",
       "      <td>100.0</td>\n",
       "      <td>91.0</td>\n",
       "      <td>-2.3</td>\n",
       "      <td>1020.3</td>\n",
       "      <td>-20.7</td>\n",
       "      <td>0.0</td>\n",
       "      <td>289.226673</td>\n",
       "      <td>3.1</td>\n",
       "      <td>Huairou</td>\n",
       "    </tr>\n",
       "  </tbody>\n",
       "</table>\n",
       "</div>"
      ],
      "text/plain": [
       "                      Date-time  year  month  day  hour  PM10  SO2  \\\n",
       "fulldate                                                             \n",
       "2013-03-01  2013-03-01 00:00:00  2013      3    1     0  18.0  5.0   \n",
       "2013-03-01  2013-03-01 00:00:00  2013      3    1     0   4.0  4.0   \n",
       "2013-03-01  2013-03-01 00:00:00  2013      3    1     0   6.0  4.0   \n",
       "2013-03-01  2013-03-01 00:00:00  2013      3    1     0   4.0  3.0   \n",
       "2013-03-01  2013-03-01 00:00:00  2013      3    1     0   7.0  3.0   \n",
       "\n",
       "                   NO2     CO    O3  TEMP    PRES  DEWP  RAIN          wd  \\\n",
       "fulldate                                                                    \n",
       "2013-03-01  198.597724  800.0  88.0   0.1  1021.1 -18.6   0.0  313.315691   \n",
       "2013-03-01    7.000000  300.0  77.0  -0.7  1023.0 -18.8   0.0  344.435748   \n",
       "2013-03-01    8.000000  300.0  81.0  -0.5  1024.5 -21.4   0.0  344.435748   \n",
       "2013-03-01  212.277977  200.0  82.0  -2.3  1020.8 -19.7   0.0   86.197752   \n",
       "2013-03-01    2.000000  100.0  91.0  -2.3  1020.3 -20.7   0.0  289.226673   \n",
       "\n",
       "            WSPM       station  \n",
       "fulldate                        \n",
       "2013-03-01   4.4       Gucheng  \n",
       "2013-03-01   4.4  Aotizhongxin  \n",
       "2013-03-01   5.7       Tiantan  \n",
       "2013-03-01   0.5      Dingling  \n",
       "2013-03-01   3.1       Huairou  "
      ]
     },
     "execution_count": 10,
     "metadata": {},
     "output_type": "execute_result"
    }
   ],
   "source": [
    "# Converting the index as date-time format\n",
    "df['fulldate'] = pd.to_datetime(df[\"Date-time\"])\n",
    "\n",
    "# Adding the hours\n",
    "df['fulldate'] +=  pd.to_timedelta(df.hour, unit='h')\n",
    "\n",
    "# Index\n",
    "df = df.set_index('fulldate')\n",
    "\n",
    "df.head()"
   ]
  },
  {
   "cell_type": "markdown",
   "id": "a9eed187",
   "metadata": {},
   "source": [
    "As we see, for a given date, we are given the data for different stations in Beijing."
   ]
  },
  {
   "cell_type": "markdown",
   "id": "0f2628e5",
   "metadata": {},
   "source": [
    "## Visualization\n",
    "\n",
    "### For a given station\n",
    "\n",
    "Let us focus on a given station and visualize the features in the data. We will do a daily, weekly, and monthly averaging of the data."
   ]
  },
  {
   "cell_type": "code",
   "execution_count": 11,
   "id": "75be2ce0",
   "metadata": {},
   "outputs": [
    {
     "data": {
      "text/html": [
       "<div>\n",
       "<style scoped>\n",
       "    .dataframe tbody tr th:only-of-type {\n",
       "        vertical-align: middle;\n",
       "    }\n",
       "\n",
       "    .dataframe tbody tr th {\n",
       "        vertical-align: top;\n",
       "    }\n",
       "\n",
       "    .dataframe thead th {\n",
       "        text-align: right;\n",
       "    }\n",
       "</style>\n",
       "<table border=\"1\" class=\"dataframe\">\n",
       "  <thead>\n",
       "    <tr style=\"text-align: right;\">\n",
       "      <th></th>\n",
       "      <th>PM10</th>\n",
       "      <th>SO2</th>\n",
       "      <th>NO2</th>\n",
       "      <th>CO</th>\n",
       "      <th>O3</th>\n",
       "      <th>TEMP</th>\n",
       "      <th>PRES</th>\n",
       "      <th>DEWP</th>\n",
       "      <th>RAIN</th>\n",
       "      <th>wd</th>\n",
       "      <th>WSPM</th>\n",
       "    </tr>\n",
       "    <tr>\n",
       "      <th>fulldate</th>\n",
       "      <th></th>\n",
       "      <th></th>\n",
       "      <th></th>\n",
       "      <th></th>\n",
       "      <th></th>\n",
       "      <th></th>\n",
       "      <th></th>\n",
       "      <th></th>\n",
       "      <th></th>\n",
       "      <th></th>\n",
       "      <th></th>\n",
       "    </tr>\n",
       "  </thead>\n",
       "  <tbody>\n",
       "    <tr>\n",
       "      <th>2013-03-01 00:00:00</th>\n",
       "      <td>8.0</td>\n",
       "      <td>6.0</td>\n",
       "      <td>28.000000</td>\n",
       "      <td>400.0</td>\n",
       "      <td>52.0</td>\n",
       "      <td>-0.7</td>\n",
       "      <td>1023.0</td>\n",
       "      <td>-18.8</td>\n",
       "      <td>0.0</td>\n",
       "      <td>344.435748</td>\n",
       "      <td>4.4</td>\n",
       "    </tr>\n",
       "    <tr>\n",
       "      <th>2013-03-01 02:00:00</th>\n",
       "      <td>9.0</td>\n",
       "      <td>6.0</td>\n",
       "      <td>28.000000</td>\n",
       "      <td>400.0</td>\n",
       "      <td>50.0</td>\n",
       "      <td>-1.1</td>\n",
       "      <td>1023.2</td>\n",
       "      <td>-18.2</td>\n",
       "      <td>0.0</td>\n",
       "      <td>359.134670</td>\n",
       "      <td>4.7</td>\n",
       "    </tr>\n",
       "    <tr>\n",
       "      <th>2013-03-01 04:00:00</th>\n",
       "      <td>6.0</td>\n",
       "      <td>12.0</td>\n",
       "      <td>19.000000</td>\n",
       "      <td>400.0</td>\n",
       "      <td>55.0</td>\n",
       "      <td>-1.1</td>\n",
       "      <td>1023.5</td>\n",
       "      <td>-18.2</td>\n",
       "      <td>0.0</td>\n",
       "      <td>344.435748</td>\n",
       "      <td>5.6</td>\n",
       "    </tr>\n",
       "    <tr>\n",
       "      <th>2013-03-01 06:00:00</th>\n",
       "      <td>30.0</td>\n",
       "      <td>8.0</td>\n",
       "      <td>14.000000</td>\n",
       "      <td>900.0</td>\n",
       "      <td>33.0</td>\n",
       "      <td>-1.4</td>\n",
       "      <td>1024.5</td>\n",
       "      <td>-19.4</td>\n",
       "      <td>0.0</td>\n",
       "      <td>313.315691</td>\n",
       "      <td>3.1</td>\n",
       "    </tr>\n",
       "    <tr>\n",
       "      <th>2013-03-01 08:00:00</th>\n",
       "      <td>13.0</td>\n",
       "      <td>9.0</td>\n",
       "      <td>167.461636</td>\n",
       "      <td>300.0</td>\n",
       "      <td>54.0</td>\n",
       "      <td>-2.0</td>\n",
       "      <td>1025.2</td>\n",
       "      <td>-19.5</td>\n",
       "      <td>0.0</td>\n",
       "      <td>359.134670</td>\n",
       "      <td>2.0</td>\n",
       "    </tr>\n",
       "  </tbody>\n",
       "</table>\n",
       "</div>"
      ],
      "text/plain": [
       "                     PM10   SO2         NO2     CO    O3  TEMP    PRES  DEWP  \\\n",
       "fulldate                                                                       \n",
       "2013-03-01 00:00:00   8.0   6.0   28.000000  400.0  52.0  -0.7  1023.0 -18.8   \n",
       "2013-03-01 02:00:00   9.0   6.0   28.000000  400.0  50.0  -1.1  1023.2 -18.2   \n",
       "2013-03-01 04:00:00   6.0  12.0   19.000000  400.0  55.0  -1.1  1023.5 -18.2   \n",
       "2013-03-01 06:00:00  30.0   8.0   14.000000  900.0  33.0  -1.4  1024.5 -19.4   \n",
       "2013-03-01 08:00:00  13.0   9.0  167.461636  300.0  54.0  -2.0  1025.2 -19.5   \n",
       "\n",
       "                     RAIN          wd  WSPM  \n",
       "fulldate                                     \n",
       "2013-03-01 00:00:00   0.0  344.435748   4.4  \n",
       "2013-03-01 02:00:00   0.0  359.134670   4.7  \n",
       "2013-03-01 04:00:00   0.0  344.435748   5.6  \n",
       "2013-03-01 06:00:00   0.0  313.315691   3.1  \n",
       "2013-03-01 08:00:00   0.0  359.134670   2.0  "
      ]
     },
     "execution_count": 11,
     "metadata": {},
     "output_type": "execute_result"
    }
   ],
   "source": [
    "df_Wanliu = df[df[\"station\"] == \"Wanliu\"]\n",
    "df_Wanliu = df_Wanliu.drop(['station', 'year', 'month', 'day', 'hour', 'Date-time'], axis=1)\n",
    "\n",
    "df_Wanliu.head()"
   ]
  },
  {
   "cell_type": "code",
   "execution_count": 12,
   "id": "60b31943",
   "metadata": {},
   "outputs": [],
   "source": [
    "df_daily = df_Wanliu.resample('D').mean()\n",
    "df_weekly = df_daily.resample('W').mean()\n",
    "df_monthly = df_daily.resample('M').mean()"
   ]
  },
  {
   "cell_type": "code",
   "execution_count": 13,
   "id": "173da4b6",
   "metadata": {},
   "outputs": [
    {
     "data": {
      "text/plain": [
       "<Figure size 1500x1500 with 0 Axes>"
      ]
     },
     "metadata": {},
     "output_type": "display_data"
    },
    {
     "data": {
      "image/png": "[encoded data removed]",
      "text/plain": [
       "<Figure size 1500x1500 with 16 Axes>"
      ]
     },
     "metadata": {},
     "output_type": "display_data"
    }
   ],
   "source": [
    "# Daily visualization\n",
    "plt.figure(figsize = (15, 15))\n",
    "df_daily.plot(subplots=True, layout=(4,4), figsize = (15,15))\n",
    "plt.show()"
   ]
  },
  {
   "cell_type": "code",
   "execution_count": 14,
   "id": "552996a3",
   "metadata": {},
   "outputs": [
    {
     "data": {
      "text/plain": [
       "<Figure size 1500x1500 with 0 Axes>"
      ]
     },
     "metadata": {},
     "output_type": "display_data"
    },
    {
     "data": {
      "image/png": "[encoded data removed]",
      "text/plain": [
       "<Figure size 1500x1500 with 16 Axes>"
      ]
     },
     "metadata": {},
     "output_type": "display_data"
    }
   ],
   "source": [
    "# Monthly visualization\n",
    "plt.figure(figsize = (15, 15))\n",
    "df_monthly.plot(subplots=True, layout=(4,4), figsize = (15,15))\n",
    "plt.show()"
   ]
  },
  {
   "cell_type": "markdown",
   "id": "982d9cab",
   "metadata": {},
   "source": [
    "After plotting the daily mean of the data, we can detect some patterns. They get more clear when plotting the monthly means of the data: there appears to be an annnual seasonnality. It is natual for the temperature that varies periodically with the passing of seasons. Same goes for the RAIN. All of this tells us that it might be interesting to look at the data under a time series angle."
   ]
  },
  {
   "cell_type": "markdown",
   "id": "712bece5",
   "metadata": {},
   "source": [
    "## Target visualization\n",
    "\n",
    "The target variable / label of the data is the PM2.5, an indicator measuring the quantity of fine particulate matter in the air.\n",
    "\n",
    "We can do a quick vizualisation of the target in one station."
   ]
  },
  {
   "cell_type": "code",
   "execution_count": 15,
   "id": "7e2e48d2",
   "metadata": {},
   "outputs": [
    {
     "data": {
      "text/plain": [
       "Text(0.5, 1.0, 'Target variable across time')"
      ]
     },
     "execution_count": 15,
     "metadata": {},
     "output_type": "execute_result"
    },
    {
     "data": {
      "image/png": "[encoded data removed]",
      "text/plain": [
       "<Figure size 1000x700 with 1 Axes>"
      ]
     },
     "metadata": {},
     "output_type": "display_data"
    }
   ],
   "source": [
    "df[\"target\"]= labels_train\n",
    "df_Wanliu = df[df[\"station\"] == \"Wanliu\"]\n",
    "df_daily = df_Wanliu.resample('D').mean()\n",
    "df_monthly = df_daily.resample('M').mean()\n",
    "\n",
    "df_Wanliu[\"target\"].plot(figsize=(10,7), label = \"PM2.5\")\n",
    "df_monthly[\"target\"].plot(figsize=(10,7), lw = 5, label=\"monthly mean of the PM2.5\")\n",
    "plt.xlabel(\"date\")\n",
    "plt.ylabel(\"PM2.5\")\n",
    "plt.legend()\n",
    "plt.title(\"Target variable across time\")"
   ]
  },
  {
   "cell_type": "markdown",
   "id": "b19f8ca2",
   "metadata": {},
   "source": [
    "Now, let's look at how the target behaves across the years, months, hours in a day and days of the week for the different stations. To have a general look at the data, we use the median. You can zoom in and out in the plot and choose one or more stations to analyze the data. \n",
    "\n",
    "**(Below: interactive plotly plots that cannot be displayed on github and have to be run locally)**"
   ]
  },
  {
   "cell_type": "code",
   "execution_count": 16,
   "id": "21a9d75b",
   "metadata": {},
   "outputs": [
    {
     "data": {
      "application/vnd.plotly.v1+json": {
       "config": {
        "plotlyServerURL": "https://plot.ly"
       },
       "data": [
        {
         "hovertemplate": "station=Aotizhongxin<br>year=%{x}<br>target=%{y}<extra></extra>",
         "legendgroup": "Aotizhongxin",
         "line": {
          "color": "rgb(127, 60, 141)",
          "dash": "solid"
         },
         "marker": {
          "symbol": "circle"
         },
         "mode": "lines",
         "name": "Aotizhongxin",
         "orientation": "v",
         "showlegend": true,
         "type": "scatter",
         "x": [
          2013,
          2014,
          2015
         ],
         "xaxis": "x",
         "y": [
          62,
          64,
          52
         ],
         "yaxis": "y"
        },
        {
         "hovertemplate": "station=Changping<br>year=%{x}<br>target=%{y}<extra></extra>",
         "legendgroup": "Changping",
         "line": {
          "color": "rgb(17, 165, 121)",
          "dash": "solid"
         },
         "marker": {
          "symbol": "circle"
         },
         "mode": "lines",
         "name": "Changping",
         "orientation": "v",
         "showlegend": true,
         "type": "scatter",
         "x": [
          2013,
          2014,
          2015
         ],
         "xaxis": "x",
         "y": [
          51,
          50,
          43
         ],
         "yaxis": "y"
        },
        {
         "hovertemplate": "station=Dingling<br>year=%{x}<br>target=%{y}<extra></extra>",
         "legendgroup": "Dingling",
         "line": {
          "color": "rgb(57, 105, 172)",
          "dash": "solid"
         },
         "marker": {
          "symbol": "circle"
         },
         "mode": "lines",
         "name": "Dingling",
         "orientation": "v",
         "showlegend": true,
         "type": "scatter",
         "x": [
          2013,
          2014,
          2015
         ],
         "xaxis": "x",
         "y": [
          42,
          44,
          34
         ],
         "yaxis": "y"
        },
        {
         "hovertemplate": "station=Dongsi<br>year=%{x}<br>target=%{y}<extra></extra>",
         "legendgroup": "Dongsi",
         "line": {
          "color": "rgb(242, 183, 1)",
          "dash": "solid"
         },
         "marker": {
          "symbol": "circle"
         },
         "mode": "lines",
         "name": "Dongsi",
         "orientation": "v",
         "showlegend": true,
         "type": "scatter",
         "x": [
          2013,
          2014,
          2015
         ],
         "xaxis": "x",
         "y": [
          64,
          65,
          55
         ],
         "yaxis": "y"
        },
        {
         "hovertemplate": "station=Guanyuan<br>year=%{x}<br>target=%{y}<extra></extra>",
         "legendgroup": "Guanyuan",
         "line": {
          "color": "rgb(231, 63, 116)",
          "dash": "solid"
         },
         "marker": {
          "symbol": "circle"
         },
         "mode": "lines",
         "name": "Guanyuan",
         "orientation": "v",
         "showlegend": true,
         "type": "scatter",
         "x": [
          2013,
          2014,
          2015
         ],
         "xaxis": "x",
         "y": [
          61,
          65,
          52
         ],
         "yaxis": "y"
        },
        {
         "hovertemplate": "station=Gucheng<br>year=%{x}<br>target=%{y}<extra></extra>",
         "legendgroup": "Gucheng",
         "line": {
          "color": "rgb(128, 186, 90)",
          "dash": "solid"
         },
         "marker": {
          "symbol": "circle"
         },
         "mode": "lines",
         "name": "Gucheng",
         "orientation": "v",
         "showlegend": true,
         "type": "scatter",
         "x": [
          2013,
          2014,
          2015
         ],
         "xaxis": "x",
         "y": [
          60,
          66,
          50
         ],
         "yaxis": "y"
        },
        {
         "hovertemplate": "station=Huairou<br>year=%{x}<br>target=%{y}<extra></extra>",
         "legendgroup": "Huairou",
         "line": {
          "color": "rgb(230, 131, 16)",
          "dash": "solid"
         },
         "marker": {
          "symbol": "circle"
         },
         "mode": "lines",
         "name": "Huairou",
         "orientation": "v",
         "showlegend": true,
         "type": "scatter",
         "x": [
          2013,
          2014,
          2015
         ],
         "xaxis": "x",
         "y": [
          48,
          51,
          43
         ],
         "yaxis": "y"
        },
        {
         "hovertemplate": "station=Nongzhanguan<br>year=%{x}<br>target=%{y}<extra></extra>",
         "legendgroup": "Nongzhanguan",
         "line": {
          "color": "rgb(0, 134, 149)",
          "dash": "solid"
         },
         "marker": {
          "symbol": "circle"
         },
         "mode": "lines",
         "name": "Nongzhanguan",
         "orientation": "v",
         "showlegend": true,
         "type": "scatter",
         "x": [
          2013,
          2014,
          2015
         ],
         "xaxis": "x",
         "y": [
          62,
          64,
          53
         ],
         "yaxis": "y"
        },
        {
         "hovertemplate": "station=Shunyi<br>year=%{x}<br>target=%{y}<extra></extra>",
         "legendgroup": "Shunyi",
         "line": {
          "color": "rgb(207, 28, 144)",
          "dash": "solid"
         },
         "marker": {
          "symbol": "circle"
         },
         "mode": "lines",
         "name": "Shunyi",
         "orientation": "v",
         "showlegend": true,
         "type": "scatter",
         "x": [
          2013,
          2014,
          2015
         ],
         "xaxis": "x",
         "y": [
          56,
          60,
          49
         ],
         "yaxis": "y"
        },
        {
         "hovertemplate": "station=Tiantan<br>year=%{x}<br>target=%{y}<extra></extra>",
         "legendgroup": "Tiantan",
         "line": {
          "color": "rgb(249, 123, 114)",
          "dash": "solid"
         },
         "marker": {
          "symbol": "circle"
         },
         "mode": "lines",
         "name": "Tiantan",
         "orientation": "v",
         "showlegend": true,
         "type": "scatter",
         "x": [
          2013,
          2014,
          2015
         ],
         "xaxis": "x",
         "y": [
          63,
          62,
          52
         ],
         "yaxis": "y"
        },
        {
         "hovertemplate": "station=Wanliu<br>year=%{x}<br>target=%{y}<extra></extra>",
         "legendgroup": "Wanliu",
         "line": {
          "color": "rgb(165, 170, 153)",
          "dash": "solid"
         },
         "marker": {
          "symbol": "circle"
         },
         "mode": "lines",
         "name": "Wanliu",
         "orientation": "v",
         "showlegend": true,
         "type": "scatter",
         "x": [
          2013,
          2014,
          2015
         ],
         "xaxis": "x",
         "y": [
          70,
          65,
          51
         ],
         "yaxis": "y"
        },
        {
         "hovertemplate": "station=Wanshouxigong<br>year=%{x}<br>target=%{y}<extra></extra>",
         "legendgroup": "Wanshouxigong",
         "line": {
          "color": "rgb(127, 60, 141)",
          "dash": "solid"
         },
         "marker": {
          "symbol": "circle"
         },
         "mode": "lines",
         "name": "Wanshouxigong",
         "orientation": "v",
         "showlegend": true,
         "type": "scatter",
         "x": [
          2013,
          2014,
          2015
         ],
         "xaxis": "x",
         "y": [
          64,
          65,
          52
         ],
         "yaxis": "y"
        }
       ],
       "layout": {
        "legend": {
         "title": {
          "text": "station"
         },
         "tracegroupgap": 0
        },
        "margin": {
         "t": 60
        },
        "template": {
         "data": {
          "bar": [
           {
            "error_x": {
             "color": "#2a3f5f"
            },
            "error_y": {
             "color": "#2a3f5f"
            },
            "marker": {
             "line": {
              "color": "#E5ECF6",
              "width": 0.5
             },
             "pattern": {
              "fillmode": "overlay",
              "size": 10,
              "solidity": 0.2
             }
            },
            "type": "bar"
           }
          ],
          "barpolar": [
           {
            "marker": {
             "line": {
              "color": "#E5ECF6",
              "width": 0.5
             },
             "pattern": {
              "fillmode": "overlay",
              "size": 10,
              "solidity": 0.2
             }
            },
            "type": "barpolar"
           }
          ],
          "carpet": [
           {
            "aaxis": {
             "endlinecolor": "#2a3f5f",
             "gridcolor": "white",
             "linecolor": "white",
             "minorgridcolor": "white",
             "startlinecolor": "#2a3f5f"
            },
            "baxis": {
             "endlinecolor": "#2a3f5f",
             "gridcolor": "white",
             "linecolor": "white",
             "minorgridcolor": "white",
             "startlinecolor": "#2a3f5f"
            },
            "type": "carpet"
           }
          ],
          "choropleth": [
           {
            "colorbar": {
             "outlinewidth": 0,
             "ticks": ""
            },
            "type": "choropleth"
           }
          ],
          "contour": [
           {
            "colorbar": {
             "outlinewidth": 0,
             "ticks": ""
            },
            "colorscale": [
             [
              0,
              "#0d0887"
             ],
             [
              0.1111111111111111,
              "#46039f"
             ],
             [
              0.2222222222222222,
              "#7201a8"
             ],
             [
              0.3333333333333333,
              "#9c179e"
             ],
             [
              0.4444444444444444,
              "#bd3786"
             ],
             [
              0.5555555555555556,
              "#d8576b"
             ],
             [
              0.6666666666666666,
              "#ed7953"
             ],
             [
              0.7777777777777778,
              "#fb9f3a"
             ],
             [
              0.8888888888888888,
              "#fdca26"
             ],
             [
              1,
              "#f0f921"
             ]
            ],
            "type": "contour"
           }
          ],
          "contourcarpet": [
           {
            "colorbar": {
             "outlinewidth": 0,
             "ticks": ""
            },
            "type": "contourcarpet"
           }
          ],
          "heatmap": [
           {
            "colorbar": {
             "outlinewidth": 0,
             "ticks": ""
            },
            "colorscale": [
             [
              0,
              "#0d0887"
             ],
             [
              0.1111111111111111,
              "#46039f"
             ],
             [
              0.2222222222222222,
              "#7201a8"
             ],
             [
              0.3333333333333333,
              "#9c179e"
             ],
             [
              0.4444444444444444,
              "#bd3786"
             ],
             [
              0.5555555555555556,
              "#d8576b"
             ],
             [
              0.6666666666666666,
              "#ed7953"
             ],
             [
              0.7777777777777778,
              "#fb9f3a"
             ],
             [
              0.8888888888888888,
              "#fdca26"
             ],
             [
              1,
              "#f0f921"
             ]
            ],
            "type": "heatmap"
           }
          ],
          "heatmapgl": [
           {
            "colorbar": {
             "outlinewidth": 0,
             "ticks": ""
            },
            "colorscale": [
             [
              0,
              "#0d0887"
             ],
             [
              0.1111111111111111,
              "#46039f"
             ],
             [
              0.2222222222222222,
              "#7201a8"
             ],
             [
              0.3333333333333333,
              "#9c179e"
             ],
             [
              0.4444444444444444,
              "#bd3786"
             ],
             [
              0.5555555555555556,
              "#d8576b"
             ],
             [
              0.6666666666666666,
              "#ed7953"
             ],
             [
              0.7777777777777778,
              "#fb9f3a"
             ],
             [
              0.8888888888888888,
              "#fdca26"
             ],
             [
              1,
              "#f0f921"
             ]
            ],
            "type": "heatmapgl"
           }
          ],
          "histogram": [
           {
            "marker": {
             "pattern": {
              "fillmode": "overlay",
              "size": 10,
              "solidity": 0.2
             }
            },
            "type": "histogram"
           }
          ],
          "histogram2d": [
           {
            "colorbar": {
             "outlinewidth": 0,
             "ticks": ""
            },
            "colorscale": [
             [
              0,
              "#0d0887"
             ],
             [
              0.1111111111111111,
              "#46039f"
             ],
             [
              0.2222222222222222,
              "#7201a8"
             ],
             [
              0.3333333333333333,
              "#9c179e"
             ],
             [
              0.4444444444444444,
              "#bd3786"
             ],
             [
              0.5555555555555556,
              "#d8576b"
             ],
             [
              0.6666666666666666,
              "#ed7953"
             ],
             [
              0.7777777777777778,
              "#fb9f3a"
             ],
             [
              0.8888888888888888,
              "#fdca26"
             ],
             [
              1,
              "#f0f921"
             ]
            ],
            "type": "histogram2d"
           }
          ],
          "histogram2dcontour": [
           {
            "colorbar": {
             "outlinewidth": 0,
             "ticks": ""
            },
            "colorscale": [
             [
              0,
              "#0d0887"
             ],
             [
              0.1111111111111111,
              "#46039f"
             ],
             [
              0.2222222222222222,
              "#7201a8"
             ],
             [
              0.3333333333333333,
              "#9c179e"
             ],
             [
              0.4444444444444444,
              "#bd3786"
             ],
             [
              0.5555555555555556,
              "#d8576b"
             ],
             [
              0.6666666666666666,
              "#ed7953"
             ],
             [
              0.7777777777777778,
              "#fb9f3a"
             ],
             [
              0.8888888888888888,
              "#fdca26"
             ],
             [
              1,
              "#f0f921"
             ]
            ],
            "type": "histogram2dcontour"
           }
          ],
          "mesh3d": [
           {
            "colorbar": {
             "outlinewidth": 0,
             "ticks": ""
            },
            "type": "mesh3d"
           }
          ],
          "parcoords": [
           {
            "line": {
             "colorbar": {
              "outlinewidth": 0,
              "ticks": ""
             }
            },
            "type": "parcoords"
           }
          ],
          "pie": [
           {
            "automargin": true,
            "type": "pie"
           }
          ],
          "scatter": [
           {
            "fillpattern": {
             "fillmode": "overlay",
             "size": 10,
             "solidity": 0.2
            },
            "type": "scatter"
           }
          ],
          "scatter3d": [
           {
            "line": {
             "colorbar": {
              "outlinewidth": 0,
              "ticks": ""
             }
            },
            "marker": {
             "colorbar": {
              "outlinewidth": 0,
              "ticks": ""
             }
            },
            "type": "scatter3d"
           }
          ],
          "scattercarpet": [
           {
            "marker": {
             "colorbar": {
              "outlinewidth": 0,
              "ticks": ""
             }
            },
            "type": "scattercarpet"
           }
          ],
          "scattergeo": [
           {
            "marker": {
             "colorbar": {
              "outlinewidth": 0,
              "ticks": ""
             }
            },
            "type": "scattergeo"
           }
          ],
          "scattergl": [
           {
            "marker": {
             "colorbar": {
              "outlinewidth": 0,
              "ticks": ""
             }
            },
            "type": "scattergl"
           }
          ],
          "scattermapbox": [
           {
            "marker": {
             "colorbar": {
              "outlinewidth": 0,
              "ticks": ""
             }
            },
            "type": "scattermapbox"
           }
          ],
          "scatterpolar": [
           {
            "marker": {
             "colorbar": {
              "outlinewidth": 0,
              "ticks": ""
             }
            },
            "type": "scatterpolar"
           }
          ],
          "scatterpolargl": [
           {
            "marker": {
             "colorbar": {
              "outlinewidth": 0,
              "ticks": ""
             }
            },
            "type": "scatterpolargl"
           }
          ],
          "scatterternary": [
           {
            "marker": {
             "colorbar": {
              "outlinewidth": 0,
              "ticks": ""
             }
            },
            "type": "scatterternary"
           }
          ],
          "surface": [
           {
            "colorbar": {
             "outlinewidth": 0,
             "ticks": ""
            },
            "colorscale": [
             [
              0,
              "#0d0887"
             ],
             [
              0.1111111111111111,
              "#46039f"
             ],
             [
              0.2222222222222222,
              "#7201a8"
             ],
             [
              0.3333333333333333,
              "#9c179e"
             ],
             [
              0.4444444444444444,
              "#bd3786"
             ],
             [
              0.5555555555555556,
              "#d8576b"
             ],
             [
              0.6666666666666666,
              "#ed7953"
             ],
             [
              0.7777777777777778,
              "#fb9f3a"
             ],
             [
              0.8888888888888888,
              "#fdca26"
             ],
             [
              1,
              "#f0f921"
             ]
            ],
            "type": "surface"
           }
          ],
          "table": [
           {
            "cells": {
             "fill": {
              "color": "#EBF0F8"
             },
             "line": {
              "color": "white"
             }
            },
            "header": {
             "fill": {
              "color": "#C8D4E3"
             },
             "line": {
              "color": "white"
             }
            },
            "type": "table"
           }
          ]
         },
         "layout": {
          "annotationdefaults": {
           "arrowcolor": "#2a3f5f",
           "arrowhead": 0,
           "arrowwidth": 1
          },
          "autotypenumbers": "strict",
          "coloraxis": {
           "colorbar": {
            "outlinewidth": 0,
            "ticks": ""
           }
          },
          "colorscale": {
           "diverging": [
            [
             0,
             "#8e0152"
            ],
            [
             0.1,
             "#c51b7d"
            ],
            [
             0.2,
             "#de77ae"
            ],
            [
             0.3,
             "#f1b6da"
            ],
            [
             0.4,
             "#fde0ef"
            ],
            [
             0.5,
             "#f7f7f7"
            ],
            [
             0.6,
             "#e6f5d0"
            ],
            [
             0.7,
             "#b8e186"
            ],
            [
             0.8,
             "#7fbc41"
            ],
            [
             0.9,
             "#4d9221"
            ],
            [
             1,
             "#276419"
            ]
           ],
           "sequential": [
            [
             0,
             "#0d0887"
            ],
            [
             0.1111111111111111,
             "#46039f"
            ],
            [
             0.2222222222222222,
             "#7201a8"
            ],
            [
             0.3333333333333333,
             "#9c179e"
            ],
            [
             0.4444444444444444,
             "#bd3786"
            ],
            [
             0.5555555555555556,
             "#d8576b"
            ],
            [
             0.6666666666666666,
             "#ed7953"
            ],
            [
             0.7777777777777778,
             "#fb9f3a"
            ],
            [
             0.8888888888888888,
             "#fdca26"
            ],
            [
             1,
             "#f0f921"
            ]
           ],
           "sequentialminus": [
            [
             0,
             "#0d0887"
            ],
            [
             0.1111111111111111,
             "#46039f"
            ],
            [
             0.2222222222222222,
             "#7201a8"
            ],
            [
             0.3333333333333333,
             "#9c179e"
            ],
            [
             0.4444444444444444,
             "#bd3786"
            ],
            [
             0.5555555555555556,
             "#d8576b"
            ],
            [
             0.6666666666666666,
             "#ed7953"
            ],
            [
             0.7777777777777778,
             "#fb9f3a"
            ],
            [
             0.8888888888888888,
             "#fdca26"
            ],
            [
             1,
             "#f0f921"
            ]
           ]
          },
          "colorway": [
           "#636efa",
           "#EF553B",
           "#00cc96",
           "#ab63fa",
           "#FFA15A",
           "#19d3f3",
           "#FF6692",
           "#B6E880",
           "#FF97FF",
           "#FECB52"
          ],
          "font": {
           "color": "#2a3f5f"
          },
          "geo": {
           "bgcolor": "white",
           "lakecolor": "white",
           "landcolor": "#E5ECF6",
           "showlakes": true,
           "showland": true,
           "subunitcolor": "white"
          },
          "hoverlabel": {
           "align": "left"
          },
          "hovermode": "closest",
          "mapbox": {
           "style": "light"
          },
          "paper_bgcolor": "white",
          "plot_bgcolor": "#E5ECF6",
          "polar": {
           "angularaxis": {
            "gridcolor": "white",
            "linecolor": "white",
            "ticks": ""
           },
           "bgcolor": "#E5ECF6",
           "radialaxis": {
            "gridcolor": "white",
            "linecolor": "white",
            "ticks": ""
           }
          },
          "scene": {
           "xaxis": {
            "backgroundcolor": "#E5ECF6",
            "gridcolor": "white",
            "gridwidth": 2,
            "linecolor": "white",
            "showbackground": true,
            "ticks": "",
            "zerolinecolor": "white"
           },
           "yaxis": {
            "backgroundcolor": "#E5ECF6",
            "gridcolor": "white",
            "gridwidth": 2,
            "linecolor": "white",
            "showbackground": true,
            "ticks": "",
            "zerolinecolor": "white"
           },
           "zaxis": {
            "backgroundcolor": "#E5ECF6",
            "gridcolor": "white",
            "gridwidth": 2,
            "linecolor": "white",
            "showbackground": true,
            "ticks": "",
            "zerolinecolor": "white"
           }
          },
          "shapedefaults": {
           "line": {
            "color": "#2a3f5f"
           }
          },
          "ternary": {
           "aaxis": {
            "gridcolor": "white",
            "linecolor": "white",
            "ticks": ""
           },
           "baxis": {
            "gridcolor": "white",
            "linecolor": "white",
            "ticks": ""
           },
           "bgcolor": "#E5ECF6",
           "caxis": {
            "gridcolor": "white",
            "linecolor": "white",
            "ticks": ""
           }
          },
          "title": {
           "x": 0.05
          },
          "xaxis": {
           "automargin": true,
           "gridcolor": "white",
           "linecolor": "white",
           "ticks": "",
           "title": {
            "standoff": 15
           },
           "zerolinecolor": "white",
           "zerolinewidth": 2
          },
          "yaxis": {
           "automargin": true,
           "gridcolor": "white",
           "linecolor": "white",
           "ticks": "",
           "title": {
            "standoff": 15
           },
           "zerolinecolor": "white",
           "zerolinewidth": 2
          }
         }
        },
        "title": {
         "text": "Median value of PM2.5 by station over time per year",
         "x": 0.5,
         "xanchor": "center",
         "y": 0.95,
         "yanchor": "top"
        },
        "xaxis": {
         "anchor": "y",
         "domain": [
          0,
          1
         ],
         "ticktext": [
          "2013",
          "2014",
          "2015"
         ],
         "tickvals": [
          2013,
          2014,
          2015
         ],
         "title": {
          "text": "year"
         }
        },
        "yaxis": {
         "anchor": "x",
         "domain": [
          0,
          1
         ],
         "title": {
          "text": "PM2.5"
         }
        }
       }
      }
     },
     "metadata": {},
     "output_type": "display_data"
    }
   ],
   "source": [
    "col = 'year'\n",
    "fig = px.line(df[[col, \"target\", \"station\"]].groupby([col, \"station\"]).median().reset_index(),\n",
    "              x=col,\n",
    "              y=\"target\",\n",
    "              color=\"station\",\n",
    "              color_discrete_sequence=px.colors.qualitative.Bold)\n",
    "fig.update_xaxes(tickvals=[2013, 2014, 2015,], ticktext=[\"2013\", \"2014\", \"2015\"])\n",
    "fig.update_layout(\n",
    "    title={\n",
    "        'text': \"Median value of PM2.5 by station over time per \" + str(col),\n",
    "        'x': 0.5,\n",
    "        'y': 0.95, # adjust the y-coordinate to move the title up or down\n",
    "        'xanchor': 'center',\n",
    "        'yanchor': 'top'})\n",
    "fig.update_xaxes(title=str(col))\n",
    "fig.update_yaxes(title=\"PM2.5\")\n",
    "fig.show()"
   ]
  },
  {
   "cell_type": "code",
   "execution_count": 17,
   "id": "669de07b",
   "metadata": {},
   "outputs": [
    {
     "data": {
      "application/vnd.plotly.v1+json": {
       "config": {
        "plotlyServerURL": "https://plot.ly"
       },
       "data": [
        {
         "hovertemplate": "station=Aotizhongxin<br>month=%{x}<br>target=%{y}<extra></extra>",
         "legendgroup": "Aotizhongxin",
         "line": {
          "color": "rgb(127, 60, 141)",
          "dash": "solid"
         },
         "marker": {
          "symbol": "circle"
         },
         "mode": "lines",
         "name": "Aotizhongxin",
         "orientation": "v",
         "showlegend": true,
         "type": "scatter",
         "x": [
          1,
          2,
          3,
          4,
          5,
          6,
          7,
          8,
          9,
          10,
          11,
          12
         ],
         "xaxis": "x",
         "y": [
          74,
          85,
          77,
          65,
          61,
          61,
          62,
          47,
          55,
          61,
          52.5,
          61
         ],
         "yaxis": "y"
        },
        {
         "hovertemplate": "station=Changping<br>month=%{x}<br>target=%{y}<extra></extra>",
         "legendgroup": "Changping",
         "line": {
          "color": "rgb(17, 165, 121)",
          "dash": "solid"
         },
         "marker": {
          "symbol": "circle"
         },
         "mode": "lines",
         "name": "Changping",
         "orientation": "v",
         "showlegend": true,
         "type": "scatter",
         "x": [
          1,
          2,
          3,
          4,
          5,
          6,
          7,
          8,
          9,
          10,
          11,
          12
         ],
         "xaxis": "x",
         "y": [
          69.5,
          85.5,
          61,
          56,
          48,
          43,
          48,
          35,
          42,
          48,
          43,
          29
         ],
         "yaxis": "y"
        },
        {
         "hovertemplate": "station=Dingling<br>month=%{x}<br>target=%{y}<extra></extra>",
         "legendgroup": "Dingling",
         "line": {
          "color": "rgb(57, 105, 172)",
          "dash": "solid"
         },
         "marker": {
          "symbol": "circle"
         },
         "mode": "lines",
         "name": "Dingling",
         "orientation": "v",
         "showlegend": true,
         "type": "scatter",
         "x": [
          1,
          2,
          3,
          4,
          5,
          6,
          7,
          8,
          9,
          10,
          11,
          12
         ],
         "xaxis": "x",
         "y": [
          48,
          67,
          54,
          50,
          41,
          38,
          44,
          31,
          35,
          41,
          31,
          24
         ],
         "yaxis": "y"
        },
        {
         "hovertemplate": "station=Dongsi<br>month=%{x}<br>target=%{y}<extra></extra>",
         "legendgroup": "Dongsi",
         "line": {
          "color": "rgb(242, 183, 1)",
          "dash": "solid"
         },
         "marker": {
          "symbol": "circle"
         },
         "mode": "lines",
         "name": "Dongsi",
         "orientation": "v",
         "showlegend": true,
         "type": "scatter",
         "x": [
          1,
          2,
          3,
          4,
          5,
          6,
          7,
          8,
          9,
          10,
          11,
          12
         ],
         "xaxis": "x",
         "y": [
          78,
          92.5,
          79.5,
          66,
          60,
          61,
          65,
          51,
          57,
          62,
          46.5,
          35
         ],
         "yaxis": "y"
        },
        {
         "hovertemplate": "station=Guanyuan<br>month=%{x}<br>target=%{y}<extra></extra>",
         "legendgroup": "Guanyuan",
         "line": {
          "color": "rgb(231, 63, 116)",
          "dash": "solid"
         },
         "marker": {
          "symbol": "circle"
         },
         "mode": "lines",
         "name": "Guanyuan",
         "orientation": "v",
         "showlegend": true,
         "type": "scatter",
         "x": [
          1,
          2,
          3,
          4,
          5,
          6,
          7,
          8,
          9,
          10,
          11,
          12
         ],
         "xaxis": "x",
         "y": [
          76.5,
          90,
          73,
          63,
          57,
          58,
          60,
          53,
          54,
          64,
          53,
          40
         ],
         "yaxis": "y"
        },
        {
         "hovertemplate": "station=Gucheng<br>month=%{x}<br>target=%{y}<extra></extra>",
         "legendgroup": "Gucheng",
         "line": {
          "color": "rgb(128, 186, 90)",
          "dash": "solid"
         },
         "marker": {
          "symbol": "circle"
         },
         "mode": "lines",
         "name": "Gucheng",
         "orientation": "v",
         "showlegend": true,
         "type": "scatter",
         "x": [
          1,
          2,
          3,
          4,
          5,
          6,
          7,
          8,
          9,
          10,
          11,
          12
         ],
         "xaxis": "x",
         "y": [
          80,
          94,
          75,
          65,
          60,
          60,
          59,
          44,
          53,
          62,
          55,
          49
         ],
         "yaxis": "y"
        },
        {
         "hovertemplate": "station=Huairou<br>month=%{x}<br>target=%{y}<extra></extra>",
         "legendgroup": "Huairou",
         "line": {
          "color": "rgb(230, 131, 16)",
          "dash": "solid"
         },
         "marker": {
          "symbol": "circle"
         },
         "mode": "lines",
         "name": "Huairou",
         "orientation": "v",
         "showlegend": true,
         "type": "scatter",
         "x": [
          1,
          2,
          3,
          4,
          5,
          6,
          7,
          8,
          9,
          10,
          11,
          12
         ],
         "xaxis": "x",
         "y": [
          66,
          84,
          69,
          57,
          48,
          45,
          49,
          34.5,
          45,
          47,
          38,
          38
         ],
         "yaxis": "y"
        },
        {
         "hovertemplate": "station=Nongzhanguan<br>month=%{x}<br>target=%{y}<extra></extra>",
         "legendgroup": "Nongzhanguan",
         "line": {
          "color": "rgb(0, 134, 149)",
          "dash": "solid"
         },
         "marker": {
          "symbol": "circle"
         },
         "mode": "lines",
         "name": "Nongzhanguan",
         "orientation": "v",
         "showlegend": true,
         "type": "scatter",
         "x": [
          1,
          2,
          3,
          4,
          5,
          6,
          7,
          8,
          9,
          10,
          11,
          12
         ],
         "xaxis": "x",
         "y": [
          83,
          94,
          79,
          62,
          57,
          58.5,
          59,
          46,
          56,
          62,
          56,
          43
         ],
         "yaxis": "y"
        },
        {
         "hovertemplate": "station=Shunyi<br>month=%{x}<br>target=%{y}<extra></extra>",
         "legendgroup": "Shunyi",
         "line": {
          "color": "rgb(207, 28, 144)",
          "dash": "solid"
         },
         "marker": {
          "symbol": "circle"
         },
         "mode": "lines",
         "name": "Shunyi",
         "orientation": "v",
         "showlegend": true,
         "type": "scatter",
         "x": [
          1,
          2,
          3,
          4,
          5,
          6,
          7,
          8,
          9,
          10,
          11,
          12
         ],
         "xaxis": "x",
         "y": [
          72,
          90,
          77,
          61,
          55,
          58,
          56,
          39,
          55,
          56,
          42,
          27
         ],
         "yaxis": "y"
        },
        {
         "hovertemplate": "station=Tiantan<br>month=%{x}<br>target=%{y}<extra></extra>",
         "legendgroup": "Tiantan",
         "line": {
          "color": "rgb(249, 123, 114)",
          "dash": "solid"
         },
         "marker": {
          "symbol": "circle"
         },
         "mode": "lines",
         "name": "Tiantan",
         "orientation": "v",
         "showlegend": true,
         "type": "scatter",
         "x": [
          1,
          2,
          3,
          4,
          5,
          6,
          7,
          8,
          9,
          10,
          11,
          12
         ],
         "xaxis": "x",
         "y": [
          79,
          86,
          76,
          62,
          57,
          60,
          60,
          50,
          55,
          60,
          52.5,
          50
         ],
         "yaxis": "y"
        },
        {
         "hovertemplate": "station=Wanliu<br>month=%{x}<br>target=%{y}<extra></extra>",
         "legendgroup": "Wanliu",
         "line": {
          "color": "rgb(165, 170, 153)",
          "dash": "solid"
         },
         "marker": {
          "symbol": "circle"
         },
         "mode": "lines",
         "name": "Wanliu",
         "orientation": "v",
         "showlegend": true,
         "type": "scatter",
         "x": [
          1,
          2,
          3,
          4,
          5,
          6,
          7,
          8,
          9,
          10,
          11,
          12
         ],
         "xaxis": "x",
         "y": [
          86.5,
          96,
          76,
          65,
          60,
          59,
          62,
          47,
          53,
          62,
          62,
          54
         ],
         "yaxis": "y"
        },
        {
         "hovertemplate": "station=Wanshouxigong<br>month=%{x}<br>target=%{y}<extra></extra>",
         "legendgroup": "Wanshouxigong",
         "line": {
          "color": "rgb(127, 60, 141)",
          "dash": "solid"
         },
         "marker": {
          "symbol": "circle"
         },
         "mode": "lines",
         "name": "Wanshouxigong",
         "orientation": "v",
         "showlegend": true,
         "type": "scatter",
         "x": [
          1,
          2,
          3,
          4,
          5,
          6,
          7,
          8,
          9,
          10,
          11,
          12
         ],
         "xaxis": "x",
         "y": [
          88,
          94.5,
          76,
          70,
          55,
          59,
          59,
          47,
          54,
          61,
          59,
          45
         ],
         "yaxis": "y"
        }
       ],
       "layout": {
        "legend": {
         "title": {
          "text": "station"
         },
         "tracegroupgap": 0
        },
        "margin": {
         "t": 60
        },
        "template": {
         "data": {
          "bar": [
           {
            "error_x": {
             "color": "#2a3f5f"
            },
            "error_y": {
             "color": "#2a3f5f"
            },
            "marker": {
             "line": {
              "color": "#E5ECF6",
              "width": 0.5
             },
             "pattern": {
              "fillmode": "overlay",
              "size": 10,
              "solidity": 0.2
             }
            },
            "type": "bar"
           }
          ],
          "barpolar": [
           {
            "marker": {
             "line": {
              "color": "#E5ECF6",
              "width": 0.5
             },
             "pattern": {
              "fillmode": "overlay",
              "size": 10,
              "solidity": 0.2
             }
            },
            "type": "barpolar"
           }
          ],
          "carpet": [
           {
            "aaxis": {
             "endlinecolor": "#2a3f5f",
             "gridcolor": "white",
             "linecolor": "white",
             "minorgridcolor": "white",
             "startlinecolor": "#2a3f5f"
            },
            "baxis": {
             "endlinecolor": "#2a3f5f",
             "gridcolor": "white",
             "linecolor": "white",
             "minorgridcolor": "white",
             "startlinecolor": "#2a3f5f"
            },
            "type": "carpet"
           }
          ],
          "choropleth": [
           {
            "colorbar": {
             "outlinewidth": 0,
             "ticks": ""
            },
            "type": "choropleth"
           }
          ],
          "contour": [
           {
            "colorbar": {
             "outlinewidth": 0,
             "ticks": ""
            },
            "colorscale": [
             [
              0,
              "#0d0887"
             ],
             [
              0.1111111111111111,
              "#46039f"
             ],
             [
              0.2222222222222222,
              "#7201a8"
             ],
             [
              0.3333333333333333,
              "#9c179e"
             ],
             [
              0.4444444444444444,
              "#bd3786"
             ],
             [
              0.5555555555555556,
              "#d8576b"
             ],
             [
              0.6666666666666666,
              "#ed7953"
             ],
             [
              0.7777777777777778,
              "#fb9f3a"
             ],
             [
              0.8888888888888888,
              "#fdca26"
             ],
             [
              1,
              "#f0f921"
             ]
            ],
            "type": "contour"
           }
          ],
          "contourcarpet": [
           {
            "colorbar": {
             "outlinewidth": 0,
             "ticks": ""
            },
            "type": "contourcarpet"
           }
          ],
          "heatmap": [
           {
            "colorbar": {
             "outlinewidth": 0,
             "ticks": ""
            },
            "colorscale": [
             [
              0,
              "#0d0887"
             ],
             [
              0.1111111111111111,
              "#46039f"
             ],
             [
              0.2222222222222222,
              "#7201a8"
             ],
             [
              0.3333333333333333,
              "#9c179e"
             ],
             [
              0.4444444444444444,
              "#bd3786"
             ],
             [
              0.5555555555555556,
              "#d8576b"
             ],
             [
              0.6666666666666666,
              "#ed7953"
             ],
             [
              0.7777777777777778,
              "#fb9f3a"
             ],
             [
              0.8888888888888888,
              "#fdca26"
             ],
             [
              1,
              "#f0f921"
             ]
            ],
            "type": "heatmap"
           }
          ],
          "heatmapgl": [
           {
            "colorbar": {
             "outlinewidth": 0,
             "ticks": ""
            },
            "colorscale": [
             [
              0,
              "#0d0887"
             ],
             [
              0.1111111111111111,
              "#46039f"
             ],
             [
              0.2222222222222222,
              "#7201a8"
             ],
             [
              0.3333333333333333,
              "#9c179e"
             ],
             [
              0.4444444444444444,
              "#bd3786"
             ],
             [
              0.5555555555555556,
              "#d8576b"
             ],
             [
              0.6666666666666666,
              "#ed7953"
             ],
             [
              0.7777777777777778,
              "#fb9f3a"
             ],
             [
              0.8888888888888888,
              "#fdca26"
             ],
             [
              1,
              "#f0f921"
             ]
            ],
            "type": "heatmapgl"
           }
          ],
          "histogram": [
           {
            "marker": {
             "pattern": {
              "fillmode": "overlay",
              "size": 10,
              "solidity": 0.2
             }
            },
            "type": "histogram"
           }
          ],
          "histogram2d": [
           {
            "colorbar": {
             "outlinewidth": 0,
             "ticks": ""
            },
            "colorscale": [
             [
              0,
              "#0d0887"
             ],
             [
              0.1111111111111111,
              "#46039f"
             ],
             [
              0.2222222222222222,
              "#7201a8"
             ],
             [
              0.3333333333333333,
              "#9c179e"
             ],
             [
              0.4444444444444444,
              "#bd3786"
             ],
             [
              0.5555555555555556,
              "#d8576b"
             ],
             [
              0.6666666666666666,
              "#ed7953"
             ],
             [
              0.7777777777777778,
              "#fb9f3a"
             ],
             [
              0.8888888888888888,
              "#fdca26"
             ],
             [
              1,
              "#f0f921"
             ]
            ],
            "type": "histogram2d"
           }
          ],
          "histogram2dcontour": [
           {
            "colorbar": {
             "outlinewidth": 0,
             "ticks": ""
            },
            "colorscale": [
             [
              0,
              "#0d0887"
             ],
             [
              0.1111111111111111,
              "#46039f"
             ],
             [
              0.2222222222222222,
              "#7201a8"
             ],
             [
              0.3333333333333333,
              "#9c179e"
             ],
             [
              0.4444444444444444,
              "#bd3786"
             ],
             [
              0.5555555555555556,
              "#d8576b"
             ],
             [
              0.6666666666666666,
              "#ed7953"
             ],
             [
              0.7777777777777778,
              "#fb9f3a"
             ],
             [
              0.8888888888888888,
              "#fdca26"
             ],
             [
              1,
              "#f0f921"
             ]
            ],
            "type": "histogram2dcontour"
           }
          ],
          "mesh3d": [
           {
            "colorbar": {
             "outlinewidth": 0,
             "ticks": ""
            },
            "type": "mesh3d"
           }
          ],
          "parcoords": [
           {
            "line": {
             "colorbar": {
              "outlinewidth": 0,
              "ticks": ""
             }
            },
            "type": "parcoords"
           }
          ],
          "pie": [
           {
            "automargin": true,
            "type": "pie"
           }
          ],
          "scatter": [
           {
            "fillpattern": {
             "fillmode": "overlay",
             "size": 10,
             "solidity": 0.2
            },
            "type": "scatter"
           }
          ],
          "scatter3d": [
           {
            "line": {
             "colorbar": {
              "outlinewidth": 0,
              "ticks": ""
             }
            },
            "marker": {
             "colorbar": {
              "outlinewidth": 0,
              "ticks": ""
             }
            },
            "type": "scatter3d"
           }
          ],
          "scattercarpet": [
           {
            "marker": {
             "colorbar": {
              "outlinewidth": 0,
              "ticks": ""
             }
            },
            "type": "scattercarpet"
           }
          ],
          "scattergeo": [
           {
            "marker": {
             "colorbar": {
              "outlinewidth": 0,
              "ticks": ""
             }
            },
            "type": "scattergeo"
           }
          ],
          "scattergl": [
           {
            "marker": {
             "colorbar": {
              "outlinewidth": 0,
              "ticks": ""
             }
            },
            "type": "scattergl"
           }
          ],
          "scattermapbox": [
           {
            "marker": {
             "colorbar": {
              "outlinewidth": 0,
              "ticks": ""
             }
            },
            "type": "scattermapbox"
           }
          ],
          "scatterpolar": [
           {
            "marker": {
             "colorbar": {
              "outlinewidth": 0,
              "ticks": ""
             }
            },
            "type": "scatterpolar"
           }
          ],
          "scatterpolargl": [
           {
            "marker": {
             "colorbar": {
              "outlinewidth": 0,
              "ticks": ""
             }
            },
            "type": "scatterpolargl"
           }
          ],
          "scatterternary": [
           {
            "marker": {
             "colorbar": {
              "outlinewidth": 0,
              "ticks": ""
             }
            },
            "type": "scatterternary"
           }
          ],
          "surface": [
           {
            "colorbar": {
             "outlinewidth": 0,
             "ticks": ""
            },
            "colorscale": [
             [
              0,
              "#0d0887"
             ],
             [
              0.1111111111111111,
              "#46039f"
             ],
             [
              0.2222222222222222,
              "#7201a8"
             ],
             [
              0.3333333333333333,
              "#9c179e"
             ],
             [
              0.4444444444444444,
              "#bd3786"
             ],
             [
              0.5555555555555556,
              "#d8576b"
             ],
             [
              0.6666666666666666,
              "#ed7953"
             ],
             [
              0.7777777777777778,
              "#fb9f3a"
             ],
             [
              0.8888888888888888,
              "#fdca26"
             ],
             [
              1,
              "#f0f921"
             ]
            ],
            "type": "surface"
           }
          ],
          "table": [
           {
            "cells": {
             "fill": {
              "color": "#EBF0F8"
             },
             "line": {
              "color": "white"
             }
            },
            "header": {
             "fill": {
              "color": "#C8D4E3"
             },
             "line": {
              "color": "white"
             }
            },
            "type": "table"
           }
          ]
         },
         "layout": {
          "annotationdefaults": {
           "arrowcolor": "#2a3f5f",
           "arrowhead": 0,
           "arrowwidth": 1
          },
          "autotypenumbers": "strict",
          "coloraxis": {
           "colorbar": {
            "outlinewidth": 0,
            "ticks": ""
           }
          },
          "colorscale": {
           "diverging": [
            [
             0,
             "#8e0152"
            ],
            [
             0.1,
             "#c51b7d"
            ],
            [
             0.2,
             "#de77ae"
            ],
            [
             0.3,
             "#f1b6da"
            ],
            [
             0.4,
             "#fde0ef"
            ],
            [
             0.5,
             "#f7f7f7"
            ],
            [
             0.6,
             "#e6f5d0"
            ],
            [
             0.7,
             "#b8e186"
            ],
            [
             0.8,
             "#7fbc41"
            ],
            [
             0.9,
             "#4d9221"
            ],
            [
             1,
             "#276419"
            ]
           ],
           "sequential": [
            [
             0,
             "#0d0887"
            ],
            [
             0.1111111111111111,
             "#46039f"
            ],
            [
             0.2222222222222222,
             "#7201a8"
            ],
            [
             0.3333333333333333,
             "#9c179e"
            ],
            [
             0.4444444444444444,
             "#bd3786"
            ],
            [
             0.5555555555555556,
             "#d8576b"
            ],
            [
             0.6666666666666666,
             "#ed7953"
            ],
            [
             0.7777777777777778,
             "#fb9f3a"
            ],
            [
             0.8888888888888888,
             "#fdca26"
            ],
            [
             1,
             "#f0f921"
            ]
           ],
           "sequentialminus": [
            [
             0,
             "#0d0887"
            ],
            [
             0.1111111111111111,
             "#46039f"
            ],
            [
             0.2222222222222222,
             "#7201a8"
            ],
            [
             0.3333333333333333,
             "#9c179e"
            ],
            [
             0.4444444444444444,
             "#bd3786"
            ],
            [
             0.5555555555555556,
             "#d8576b"
            ],
            [
             0.6666666666666666,
             "#ed7953"
            ],
            [
             0.7777777777777778,
             "#fb9f3a"
            ],
            [
             0.8888888888888888,
             "#fdca26"
            ],
            [
             1,
             "#f0f921"
            ]
           ]
          },
          "colorway": [
           "#636efa",
           "#EF553B",
           "#00cc96",
           "#ab63fa",
           "#FFA15A",
           "#19d3f3",
           "#FF6692",
           "#B6E880",
           "#FF97FF",
           "#FECB52"
          ],
          "font": {
           "color": "#2a3f5f"
          },
          "geo": {
           "bgcolor": "white",
           "lakecolor": "white",
           "landcolor": "#E5ECF6",
           "showlakes": true,
           "showland": true,
           "subunitcolor": "white"
          },
          "hoverlabel": {
           "align": "left"
          },
          "hovermode": "closest",
          "mapbox": {
           "style": "light"
          },
          "paper_bgcolor": "white",
          "plot_bgcolor": "#E5ECF6",
          "polar": {
           "angularaxis": {
            "gridcolor": "white",
            "linecolor": "white",
            "ticks": ""
           },
           "bgcolor": "#E5ECF6",
           "radialaxis": {
            "gridcolor": "white",
            "linecolor": "white",
            "ticks": ""
           }
          },
          "scene": {
           "xaxis": {
            "backgroundcolor": "#E5ECF6",
            "gridcolor": "white",
            "gridwidth": 2,
            "linecolor": "white",
            "showbackground": true,
            "ticks": "",
            "zerolinecolor": "white"
           },
           "yaxis": {
            "backgroundcolor": "#E5ECF6",
            "gridcolor": "white",
            "gridwidth": 2,
            "linecolor": "white",
            "showbackground": true,
            "ticks": "",
            "zerolinecolor": "white"
           },
           "zaxis": {
            "backgroundcolor": "#E5ECF6",
            "gridcolor": "white",
            "gridwidth": 2,
            "linecolor": "white",
            "showbackground": true,
            "ticks": "",
            "zerolinecolor": "white"
           }
          },
          "shapedefaults": {
           "line": {
            "color": "#2a3f5f"
           }
          },
          "ternary": {
           "aaxis": {
            "gridcolor": "white",
            "linecolor": "white",
            "ticks": ""
           },
           "baxis": {
            "gridcolor": "white",
            "linecolor": "white",
            "ticks": ""
           },
           "bgcolor": "#E5ECF6",
           "caxis": {
            "gridcolor": "white",
            "linecolor": "white",
            "ticks": ""
           }
          },
          "title": {
           "x": 0.05
          },
          "xaxis": {
           "automargin": true,
           "gridcolor": "white",
           "linecolor": "white",
           "ticks": "",
           "title": {
            "standoff": 15
           },
           "zerolinecolor": "white",
           "zerolinewidth": 2
          },
          "yaxis": {
           "automargin": true,
           "gridcolor": "white",
           "linecolor": "white",
           "ticks": "",
           "title": {
            "standoff": 15
           },
           "zerolinecolor": "white",
           "zerolinewidth": 2
          }
         }
        },
        "title": {
         "text": "Median value of PM2.5 by station over time per month",
         "x": 0.5,
         "xanchor": "center",
         "y": 0.95,
         "yanchor": "top"
        },
        "xaxis": {
         "anchor": "y",
         "domain": [
          0,
          1
         ],
         "title": {
          "text": "month"
         }
        },
        "yaxis": {
         "anchor": "x",
         "domain": [
          0,
          1
         ],
         "title": {
          "text": "PM2.5"
         }
        }
       }
      }
     },
     "metadata": {},
     "output_type": "display_data"
    }
   ],
   "source": [
    "col = 'month'\n",
    "fig = px.line(df[[col, \"target\", \"station\"]].groupby([col, \"station\"]).median().reset_index(),\n",
    "              x=col,\n",
    "              y=\"target\",\n",
    "              color=\"station\",\n",
    "              color_discrete_sequence=px.colors.qualitative.Bold)\n",
    "fig.update_layout(\n",
    "    title={\n",
    "        'text': \"Median value of PM2.5 by station over time per \" + str(col),\n",
    "        'x': 0.5,\n",
    "        'y': 0.95, # adjust the y-coordinate to move the title up or down\n",
    "        'xanchor': 'center',\n",
    "        'yanchor': 'top'})\n",
    "fig.update_xaxes(title=str(col))\n",
    "fig.update_yaxes(title=\"PM2.5\")\n",
    "fig.show()"
   ]
  },
  {
   "cell_type": "code",
   "execution_count": 18,
   "id": "47f9d720",
   "metadata": {},
   "outputs": [
    {
     "data": {
      "application/vnd.plotly.v1+json": {
       "config": {
        "plotlyServerURL": "https://plot.ly"
       },
       "data": [
        {
         "hovertemplate": "station=Aotizhongxin<br>hour=%{x}<br>target=%{y}<extra></extra>",
         "legendgroup": "Aotizhongxin",
         "line": {
          "color": "rgb(127, 60, 141)",
          "dash": "solid"
         },
         "marker": {
          "symbol": "circle"
         },
         "mode": "lines",
         "name": "Aotizhongxin",
         "orientation": "v",
         "showlegend": true,
         "type": "scatter",
         "x": [
          0,
          1,
          2,
          3,
          4,
          5,
          6,
          7,
          8,
          9,
          10,
          11,
          12,
          13,
          14,
          15,
          16,
          17,
          18,
          19,
          20,
          21,
          22,
          23
         ],
         "xaxis": "x",
         "y": [
          89.86344969199179,
          89.17248459958932,
          88.25041067761806,
          86.22607802874742,
          83.60164271047228,
          80.30862422997947,
          78.95482546201232,
          77.14845995893225,
          78.11601642710473,
          79.54517453798768,
          79.91478439425052,
          80.22381930184805,
          78.60677618069815,
          76.73100616016427,
          75.62217659137578,
          74.4599589322382,
          73.60195071868583,
          74.4599589322382,
          75.77310061601642,
          79.72700205338809,
          83.36601642710473,
          86.83603696098562,
          88.22279260780287,
          89.30369609856263
         ],
         "yaxis": "y"
        },
        {
         "hovertemplate": "station=Changping<br>hour=%{x}<br>target=%{y}<extra></extra>",
         "legendgroup": "Changping",
         "line": {
          "color": "rgb(17, 165, 121)",
          "dash": "solid"
         },
         "marker": {
          "symbol": "circle"
         },
         "mode": "lines",
         "name": "Changping",
         "orientation": "v",
         "showlegend": true,
         "type": "scatter",
         "x": [
          0,
          1,
          2,
          3,
          4,
          5,
          6,
          7,
          8,
          9,
          10,
          11,
          12,
          13,
          14,
          15,
          16,
          17,
          18,
          19,
          20,
          21,
          22,
          23
         ],
         "xaxis": "x",
         "y": [
          71.91991786447639,
          71.40811088295688,
          69.5741273100616,
          68.09794661190965,
          65.99589322381931,
          64.14209445585216,
          63.13347022587269,
          64.17166324435318,
          67.83470225872689,
          72.64579055441479,
          76.40657084188912,
          75.68880903490759,
          74.38398357289527,
          72.63963039014374,
          71.00410677618069,
          70.92402464065708,
          68.9370636550308,
          69.80184804928132,
          72.08316221765914,
          74.98870636550308,
          77.62422997946612,
          78.44815195071868,
          75.6694045174538,
          73.38952772073921
         ],
         "yaxis": "y"
        },
        {
         "hovertemplate": "station=Dingling<br>hour=%{x}<br>target=%{y}<extra></extra>",
         "legendgroup": "Dingling",
         "line": {
          "color": "rgb(57, 105, 172)",
          "dash": "solid"
         },
         "marker": {
          "symbol": "circle"
         },
         "mode": "lines",
         "name": "Dingling",
         "orientation": "v",
         "showlegend": true,
         "type": "scatter",
         "x": [
          0,
          1,
          2,
          3,
          4,
          5,
          6,
          7,
          8,
          9,
          10,
          11,
          12,
          13,
          14,
          15,
          16,
          17,
          18,
          19,
          20,
          21,
          22,
          23
         ],
         "xaxis": "x",
         "y": [
          65.55533880903491,
          65.07330595482546,
          63.76919917864476,
          61.607597535934296,
          60.572792607802874,
          59.161806981519504,
          57.64784394250513,
          57.6405544147844,
          59.668377823408626,
          62.97227926078029,
          65.31006160164272,
          66.33850102669405,
          67.19158110882957,
          68.53285420944559,
          68.77207392197126,
          69.77474332648872,
          69.05687885010266,
          69.39835728952772,
          70.13347022587268,
          69.90041067761807,
          68.7917864476386,
          68.5694045174538,
          66.85728952772074,
          66.55965092402464
         ],
         "yaxis": "y"
        },
        {
         "hovertemplate": "station=Dongsi<br>hour=%{x}<br>target=%{y}<extra></extra>",
         "legendgroup": "Dongsi",
         "line": {
          "color": "rgb(242, 183, 1)",
          "dash": "solid"
         },
         "marker": {
          "symbol": "circle"
         },
         "mode": "lines",
         "name": "Dongsi",
         "orientation": "v",
         "showlegend": true,
         "type": "scatter",
         "x": [
          0,
          1,
          2,
          3,
          4,
          5,
          6,
          7,
          8,
          9,
          10,
          11,
          12,
          13,
          14,
          15,
          16,
          17,
          18,
          19,
          20,
          21,
          22,
          23
         ],
         "xaxis": "x",
         "y": [
          93.57258726899384,
          92.24887063655031,
          91.00308008213553,
          89.53747433264887,
          86.78747433264887,
          82.83685831622178,
          80.30595482546201,
          78.72915811088295,
          78.85657084188912,
          79.22381930184805,
          79.20359342915812,
          79.40246406570841,
          78.31149897330594,
          78.34291581108829,
          76.90965092402465,
          75.7340862422998,
          75.40626283367556,
          75.1922997946612,
          77.40657084188912,
          82.54989733059548,
          89.11498973305955,
          93.49989733059547,
          93.63141683778234,
          93.41960985626282
         ],
         "yaxis": "y"
        },
        {
         "hovertemplate": "station=Guanyuan<br>hour=%{x}<br>target=%{y}<extra></extra>",
         "legendgroup": "Guanyuan",
         "line": {
          "color": "rgb(231, 63, 116)",
          "dash": "solid"
         },
         "marker": {
          "symbol": "circle"
         },
         "mode": "lines",
         "name": "Guanyuan",
         "orientation": "v",
         "showlegend": true,
         "type": "scatter",
         "x": [
          0,
          1,
          2,
          3,
          4,
          5,
          6,
          7,
          8,
          9,
          10,
          11,
          12,
          13,
          14,
          15,
          16,
          17,
          18,
          19,
          20,
          21,
          22,
          23
         ],
         "xaxis": "x",
         "y": [
          88.26796714579055,
          87.37546201232033,
          85.29733059548255,
          84.56560574948665,
          82.62012320328542,
          79.71519507186859,
          78.39835728952772,
          77.36344969199179,
          78.0082135523614,
          78.89917864476386,
          77.98767967145791,
          78.51232032854209,
          77.20841889117042,
          76.73819301848049,
          76.00102669404518,
          74.34599589322382,
          73.16365503080081,
          73.99486652977413,
          76.40451745379877,
          81.74445585215607,
          85.89928131416838,
          87.77381930184805,
          87.83983572895278,
          88.28244353182752
         ],
         "yaxis": "y"
        },
        {
         "hovertemplate": "station=Gucheng<br>hour=%{x}<br>target=%{y}<extra></extra>",
         "legendgroup": "Gucheng",
         "line": {
          "color": "rgb(128, 186, 90)",
          "dash": "solid"
         },
         "marker": {
          "symbol": "circle"
         },
         "mode": "lines",
         "name": "Gucheng",
         "orientation": "v",
         "showlegend": true,
         "type": "scatter",
         "x": [
          0,
          1,
          2,
          3,
          4,
          5,
          6,
          7,
          8,
          9,
          10,
          11,
          12,
          13,
          14,
          15,
          16,
          17,
          18,
          19,
          20,
          21,
          22,
          23
         ],
         "xaxis": "x",
         "y": [
          90.51334702258727,
          86.70811088295687,
          81.9840862422998,
          79.04948665297741,
          76.90246406570841,
          73.84034907597535,
          72.61786447638605,
          72.4435318275154,
          75.26180698151951,
          77.43018480492813,
          78.15913757700206,
          77.40246406570841,
          76.30595482546201,
          75.86755646817248,
          75.21457905544148,
          73.79568788501027,
          73.23993839835728,
          75.18121149897331,
          79.93737166324435,
          87.93080082135525,
          94.29661190965092,
          96.76868583162218,
          95.84394250513347,
          93.93028747433266
         ],
         "yaxis": "y"
        },
        {
         "hovertemplate": "station=Huairou<br>hour=%{x}<br>target=%{y}<extra></extra>",
         "legendgroup": "Huairou",
         "line": {
          "color": "rgb(230, 131, 16)",
          "dash": "solid"
         },
         "marker": {
          "symbol": "circle"
         },
         "mode": "lines",
         "name": "Huairou",
         "orientation": "v",
         "showlegend": true,
         "type": "scatter",
         "x": [
          0,
          1,
          2,
          3,
          4,
          5,
          6,
          7,
          8,
          9,
          10,
          11,
          12,
          13,
          14,
          15,
          16,
          17,
          18,
          19,
          20,
          21,
          22,
          23
         ],
         "xaxis": "x",
         "y": [
          73.05205338809034,
          71.34188911704312,
          69.01016427104722,
          66.18357289527721,
          64.53798767967146,
          62.776386036960986,
          60.965092402464066,
          61.62628336755647,
          63.89733059548254,
          67.05852156057495,
          69.51129363449692,
          68.87895277207393,
          67.28347022587269,
          66.50954825462013,
          65.59856262833675,
          66.56160164271047,
          67.2340862422998,
          69.1129363449692,
          71.1858316221766,
          75.44425051334701,
          79.32392197125257,
          79.52156057494867,
          77.14887063655031,
          75.26149897330595
         ],
         "yaxis": "y"
        },
        {
         "hovertemplate": "station=Nongzhanguan<br>hour=%{x}<br>target=%{y}<extra></extra>",
         "legendgroup": "Nongzhanguan",
         "line": {
          "color": "rgb(0, 134, 149)",
          "dash": "solid"
         },
         "marker": {
          "symbol": "circle"
         },
         "mode": "lines",
         "name": "Nongzhanguan",
         "orientation": "v",
         "showlegend": true,
         "type": "scatter",
         "x": [
          0,
          1,
          2,
          3,
          4,
          5,
          6,
          7,
          8,
          9,
          10,
          11,
          12,
          13,
          14,
          15,
          16,
          17,
          18,
          19,
          20,
          21,
          22,
          23
         ],
         "xaxis": "x",
         "y": [
          91.20533880903491,
          92.41303901437372,
          91.50318275154005,
          90.12515400410678,
          88.38193018480493,
          84.73100616016427,
          82.16632443531827,
          80.10985626283367,
          80.37371663244353,
          82.32648870636551,
          80.72073921971253,
          80.74332648870636,
          78.9034907597536,
          77.17043121149898,
          76.94763860369609,
          75.36447638603696,
          74.65431211498974,
          74.39835728952772,
          75.8305954825462,
          79.23850102669405,
          84.41067761806981,
          88.27505133470225,
          89.63757700205339,
          90.59671457905544
         ],
         "yaxis": "y"
        },
        {
         "hovertemplate": "station=Shunyi<br>hour=%{x}<br>target=%{y}<extra></extra>",
         "legendgroup": "Shunyi",
         "line": {
          "color": "rgb(207, 28, 144)",
          "dash": "solid"
         },
         "marker": {
          "symbol": "circle"
         },
         "mode": "lines",
         "name": "Shunyi",
         "orientation": "v",
         "showlegend": true,
         "type": "scatter",
         "x": [
          0,
          1,
          2,
          3,
          4,
          5,
          6,
          7,
          8,
          9,
          10,
          11,
          12,
          13,
          14,
          15,
          16,
          17,
          18,
          19,
          20,
          21,
          22,
          23
         ],
         "xaxis": "x",
         "y": [
          88.67566735112936,
          86.467659137577,
          82.17443531827514,
          79.45934291581108,
          76.50924024640658,
          73.93480492813141,
          70.97864476386037,
          70.12022587268994,
          71.79876796714579,
          73.26694045174538,
          75.23685831622176,
          75.01950718685832,
          74.48973305954826,
          72.45051334702259,
          71.07607802874745,
          70.59034907597535,
          69.66714579055441,
          70.76899383983573,
          72.78028747433265,
          77.55195071868583,
          83.62628336755647,
          88.65790554414785,
          91.01745379876797,
          91.46324435318274
         ],
         "yaxis": "y"
        },
        {
         "hovertemplate": "station=Tiantan<br>hour=%{x}<br>target=%{y}<extra></extra>",
         "legendgroup": "Tiantan",
         "line": {
          "color": "rgb(249, 123, 114)",
          "dash": "solid"
         },
         "marker": {
          "symbol": "circle"
         },
         "mode": "lines",
         "name": "Tiantan",
         "orientation": "v",
         "showlegend": true,
         "type": "scatter",
         "x": [
          0,
          1,
          2,
          3,
          4,
          5,
          6,
          7,
          8,
          9,
          10,
          11,
          12,
          13,
          14,
          15,
          16,
          17,
          18,
          19,
          20,
          21,
          22,
          23
         ],
         "xaxis": "x",
         "y": [
          86.95687885010267,
          86.82433264887064,
          85.79784394250514,
          84.61365503080081,
          83.11704312114989,
          80.25041067761806,
          78.21663244353182,
          76.54856262833675,
          79.26180698151951,
          80.67351129363449,
          80.14373716632444,
          80.10369609856262,
          77.65605749486653,
          76.49075975359342,
          76.23921971252567,
          74.3223819301848,
          72.80698151950719,
          73.73203285420945,
          75.02772073921972,
          78.34804928131418,
          81.14065708418892,
          84.15913757700206,
          85.62525667351129,
          86.25451745379875
         ],
         "yaxis": "y"
        },
        {
         "hovertemplate": "station=Wanliu<br>hour=%{x}<br>target=%{y}<extra></extra>",
         "legendgroup": "Wanliu",
         "line": {
          "color": "rgb(165, 170, 153)",
          "dash": "solid"
         },
         "marker": {
          "symbol": "circle"
         },
         "mode": "lines",
         "name": "Wanliu",
         "orientation": "v",
         "showlegend": true,
         "type": "scatter",
         "x": [
          0,
          1,
          2,
          3,
          4,
          5,
          6,
          7,
          8,
          9,
          10,
          11,
          12,
          13,
          14,
          15,
          16,
          17,
          18,
          19,
          20,
          21,
          22,
          23
         ],
         "xaxis": "x",
         "y": [
          92.60164271047228,
          91.35184804928132,
          88.69568788501027,
          86.91396303901438,
          84.52053388090349,
          81.73018480492813,
          80.61601642710473,
          80.19425051334701,
          82.61601642710473,
          84.08932238193019,
          84.36447638603696,
          82.717659137577,
          79.85523613963039,
          79.1288501026694,
          78.00308008213553,
          75.74722792607803,
          74.76848049281314,
          76.61088295687885,
          79.57494866529774,
          84.28788501026693,
          88.52464065708419,
          91.22505133470226,
          92.39219712525667,
          93.52422997946613
         ],
         "yaxis": "y"
        },
        {
         "hovertemplate": "station=Wanshouxigong<br>hour=%{x}<br>target=%{y}<extra></extra>",
         "legendgroup": "Wanshouxigong",
         "line": {
          "color": "rgb(127, 60, 141)",
          "dash": "solid"
         },
         "marker": {
          "symbol": "circle"
         },
         "mode": "lines",
         "name": "Wanshouxigong",
         "orientation": "v",
         "showlegend": true,
         "type": "scatter",
         "x": [
          0,
          1,
          2,
          3,
          4,
          5,
          6,
          7,
          8,
          9,
          10,
          11,
          12,
          13,
          14,
          15,
          16,
          17,
          18,
          19,
          20,
          21,
          22,
          23
         ],
         "xaxis": "x",
         "y": [
          90.05852156057495,
          89.56960985626284,
          88.28983572895278,
          86.06909650924025,
          83.46714579055441,
          80.64897330595483,
          78.02053388090349,
          76.92864476386038,
          78.59445585215606,
          79.61088295687885,
          79.44804928131417,
          78.86139630390144,
          77.53696098562628,
          77.38141683778234,
          75.15195071868582,
          74.12012320328542,
          73.86950718685831,
          74.31190965092402,
          77.66221765913758,
          82.644045174538,
          87.91273100616016,
          91.74671457905545,
          91.27104722792608,
          90.16868583162218
         ],
         "yaxis": "y"
        }
       ],
       "layout": {
        "legend": {
         "title": {
          "text": "station"
         },
         "tracegroupgap": 0
        },
        "margin": {
         "t": 60
        },
        "template": {
         "data": {
          "bar": [
           {
            "error_x": {
             "color": "#2a3f5f"
            },
            "error_y": {
             "color": "#2a3f5f"
            },
            "marker": {
             "line": {
              "color": "#E5ECF6",
              "width": 0.5
             },
             "pattern": {
              "fillmode": "overlay",
              "size": 10,
              "solidity": 0.2
             }
            },
            "type": "bar"
           }
          ],
          "barpolar": [
           {
            "marker": {
             "line": {
              "color": "#E5ECF6",
              "width": 0.5
             },
             "pattern": {
              "fillmode": "overlay",
              "size": 10,
              "solidity": 0.2
             }
            },
            "type": "barpolar"
           }
          ],
          "carpet": [
           {
            "aaxis": {
             "endlinecolor": "#2a3f5f",
             "gridcolor": "white",
             "linecolor": "white",
             "minorgridcolor": "white",
             "startlinecolor": "#2a3f5f"
            },
            "baxis": {
             "endlinecolor": "#2a3f5f",
             "gridcolor": "white",
             "linecolor": "white",
             "minorgridcolor": "white",
             "startlinecolor": "#2a3f5f"
            },
            "type": "carpet"
           }
          ],
          "choropleth": [
           {
            "colorbar": {
             "outlinewidth": 0,
             "ticks": ""
            },
            "type": "choropleth"
           }
          ],
          "contour": [
           {
            "colorbar": {
             "outlinewidth": 0,
             "ticks": ""
            },
            "colorscale": [
             [
              0,
              "#0d0887"
             ],
             [
              0.1111111111111111,
              "#46039f"
             ],
             [
              0.2222222222222222,
              "#7201a8"
             ],
             [
              0.3333333333333333,
              "#9c179e"
             ],
             [
              0.4444444444444444,
              "#bd3786"
             ],
             [
              0.5555555555555556,
              "#d8576b"
             ],
             [
              0.6666666666666666,
              "#ed7953"
             ],
             [
              0.7777777777777778,
              "#fb9f3a"
             ],
             [
              0.8888888888888888,
              "#fdca26"
             ],
             [
              1,
              "#f0f921"
             ]
            ],
            "type": "contour"
           }
          ],
          "contourcarpet": [
           {
            "colorbar": {
             "outlinewidth": 0,
             "ticks": ""
            },
            "type": "contourcarpet"
           }
          ],
          "heatmap": [
           {
            "colorbar": {
             "outlinewidth": 0,
             "ticks": ""
            },
            "colorscale": [
             [
              0,
              "#0d0887"
             ],
             [
              0.1111111111111111,
              "#46039f"
             ],
             [
              0.2222222222222222,
              "#7201a8"
             ],
             [
              0.3333333333333333,
              "#9c179e"
             ],
             [
              0.4444444444444444,
              "#bd3786"
             ],
             [
              0.5555555555555556,
              "#d8576b"
             ],
             [
              0.6666666666666666,
              "#ed7953"
             ],
             [
              0.7777777777777778,
              "#fb9f3a"
             ],
             [
              0.8888888888888888,
              "#fdca26"
             ],
             [
              1,
              "#f0f921"
             ]
            ],
            "type": "heatmap"
           }
          ],
          "heatmapgl": [
           {
            "colorbar": {
             "outlinewidth": 0,
             "ticks": ""
            },
            "colorscale": [
             [
              0,
              "#0d0887"
             ],
             [
              0.1111111111111111,
              "#46039f"
             ],
             [
              0.2222222222222222,
              "#7201a8"
             ],
             [
              0.3333333333333333,
              "#9c179e"
             ],
             [
              0.4444444444444444,
              "#bd3786"
             ],
             [
              0.5555555555555556,
              "#d8576b"
             ],
             [
              0.6666666666666666,
              "#ed7953"
             ],
             [
              0.7777777777777778,
              "#fb9f3a"
             ],
             [
              0.8888888888888888,
              "#fdca26"
             ],
             [
              1,
              "#f0f921"
             ]
            ],
            "type": "heatmapgl"
           }
          ],
          "histogram": [
           {
            "marker": {
             "pattern": {
              "fillmode": "overlay",
              "size": 10,
              "solidity": 0.2
             }
            },
            "type": "histogram"
           }
          ],
          "histogram2d": [
           {
            "colorbar": {
             "outlinewidth": 0,
             "ticks": ""
            },
            "colorscale": [
             [
              0,
              "#0d0887"
             ],
             [
              0.1111111111111111,
              "#46039f"
             ],
             [
              0.2222222222222222,
              "#7201a8"
             ],
             [
              0.3333333333333333,
              "#9c179e"
             ],
             [
              0.4444444444444444,
              "#bd3786"
             ],
             [
              0.5555555555555556,
              "#d8576b"
             ],
             [
              0.6666666666666666,
              "#ed7953"
             ],
             [
              0.7777777777777778,
              "#fb9f3a"
             ],
             [
              0.8888888888888888,
              "#fdca26"
             ],
             [
              1,
              "#f0f921"
             ]
            ],
            "type": "histogram2d"
           }
          ],
          "histogram2dcontour": [
           {
            "colorbar": {
             "outlinewidth": 0,
             "ticks": ""
            },
            "colorscale": [
             [
              0,
              "#0d0887"
             ],
             [
              0.1111111111111111,
              "#46039f"
             ],
             [
              0.2222222222222222,
              "#7201a8"
             ],
             [
              0.3333333333333333,
              "#9c179e"
             ],
             [
              0.4444444444444444,
              "#bd3786"
             ],
             [
              0.5555555555555556,
              "#d8576b"
             ],
             [
              0.6666666666666666,
              "#ed7953"
             ],
             [
              0.7777777777777778,
              "#fb9f3a"
             ],
             [
              0.8888888888888888,
              "#fdca26"
             ],
             [
              1,
              "#f0f921"
             ]
            ],
            "type": "histogram2dcontour"
           }
          ],
          "mesh3d": [
           {
            "colorbar": {
             "outlinewidth": 0,
             "ticks": ""
            },
            "type": "mesh3d"
           }
          ],
          "parcoords": [
           {
            "line": {
             "colorbar": {
              "outlinewidth": 0,
              "ticks": ""
             }
            },
            "type": "parcoords"
           }
          ],
          "pie": [
           {
            "automargin": true,
            "type": "pie"
           }
          ],
          "scatter": [
           {
            "fillpattern": {
             "fillmode": "overlay",
             "size": 10,
             "solidity": 0.2
            },
            "type": "scatter"
           }
          ],
          "scatter3d": [
           {
            "line": {
             "colorbar": {
              "outlinewidth": 0,
              "ticks": ""
             }
            },
            "marker": {
             "colorbar": {
              "outlinewidth": 0,
              "ticks": ""
             }
            },
            "type": "scatter3d"
           }
          ],
          "scattercarpet": [
           {
            "marker": {
             "colorbar": {
              "outlinewidth": 0,
              "ticks": ""
             }
            },
            "type": "scattercarpet"
           }
          ],
          "scattergeo": [
           {
            "marker": {
             "colorbar": {
              "outlinewidth": 0,
              "ticks": ""
             }
            },
            "type": "scattergeo"
           }
          ],
          "scattergl": [
           {
            "marker": {
             "colorbar": {
              "outlinewidth": 0,
              "ticks": ""
             }
            },
            "type": "scattergl"
           }
          ],
          "scattermapbox": [
           {
            "marker": {
             "colorbar": {
              "outlinewidth": 0,
              "ticks": ""
             }
            },
            "type": "scattermapbox"
           }
          ],
          "scatterpolar": [
           {
            "marker": {
             "colorbar": {
              "outlinewidth": 0,
              "ticks": ""
             }
            },
            "type": "scatterpolar"
           }
          ],
          "scatterpolargl": [
           {
            "marker": {
             "colorbar": {
              "outlinewidth": 0,
              "ticks": ""
             }
            },
            "type": "scatterpolargl"
           }
          ],
          "scatterternary": [
           {
            "marker": {
             "colorbar": {
              "outlinewidth": 0,
              "ticks": ""
             }
            },
            "type": "scatterternary"
           }
          ],
          "surface": [
           {
            "colorbar": {
             "outlinewidth": 0,
             "ticks": ""
            },
            "colorscale": [
             [
              0,
              "#0d0887"
             ],
             [
              0.1111111111111111,
              "#46039f"
             ],
             [
              0.2222222222222222,
              "#7201a8"
             ],
             [
              0.3333333333333333,
              "#9c179e"
             ],
             [
              0.4444444444444444,
              "#bd3786"
             ],
             [
              0.5555555555555556,
              "#d8576b"
             ],
             [
              0.6666666666666666,
              "#ed7953"
             ],
             [
              0.7777777777777778,
              "#fb9f3a"
             ],
             [
              0.8888888888888888,
              "#fdca26"
             ],
             [
              1,
              "#f0f921"
             ]
            ],
            "type": "surface"
           }
          ],
          "table": [
           {
            "cells": {
             "fill": {
              "color": "#EBF0F8"
             },
             "line": {
              "color": "white"
             }
            },
            "header": {
             "fill": {
              "color": "#C8D4E3"
             },
             "line": {
              "color": "white"
             }
            },
            "type": "table"
           }
          ]
         },
         "layout": {
          "annotationdefaults": {
           "arrowcolor": "#2a3f5f",
           "arrowhead": 0,
           "arrowwidth": 1
          },
          "autotypenumbers": "strict",
          "coloraxis": {
           "colorbar": {
            "outlinewidth": 0,
            "ticks": ""
           }
          },
          "colorscale": {
           "diverging": [
            [
             0,
             "#8e0152"
            ],
            [
             0.1,
             "#c51b7d"
            ],
            [
             0.2,
             "#de77ae"
            ],
            [
             0.3,
             "#f1b6da"
            ],
            [
             0.4,
             "#fde0ef"
            ],
            [
             0.5,
             "#f7f7f7"
            ],
            [
             0.6,
             "#e6f5d0"
            ],
            [
             0.7,
             "#b8e186"
            ],
            [
             0.8,
             "#7fbc41"
            ],
            [
             0.9,
             "#4d9221"
            ],
            [
             1,
             "#276419"
            ]
           ],
           "sequential": [
            [
             0,
             "#0d0887"
            ],
            [
             0.1111111111111111,
             "#46039f"
            ],
            [
             0.2222222222222222,
             "#7201a8"
            ],
            [
             0.3333333333333333,
             "#9c179e"
            ],
            [
             0.4444444444444444,
             "#bd3786"
            ],
            [
             0.5555555555555556,
             "#d8576b"
            ],
            [
             0.6666666666666666,
             "#ed7953"
            ],
            [
             0.7777777777777778,
             "#fb9f3a"
            ],
            [
             0.8888888888888888,
             "#fdca26"
            ],
            [
             1,
             "#f0f921"
            ]
           ],
           "sequentialminus": [
            [
             0,
             "#0d0887"
            ],
            [
             0.1111111111111111,
             "#46039f"
            ],
            [
             0.2222222222222222,
             "#7201a8"
            ],
            [
             0.3333333333333333,
             "#9c179e"
            ],
            [
             0.4444444444444444,
             "#bd3786"
            ],
            [
             0.5555555555555556,
             "#d8576b"
            ],
            [
             0.6666666666666666,
             "#ed7953"
            ],
            [
             0.7777777777777778,
             "#fb9f3a"
            ],
            [
             0.8888888888888888,
             "#fdca26"
            ],
            [
             1,
             "#f0f921"
            ]
           ]
          },
          "colorway": [
           "#636efa",
           "#EF553B",
           "#00cc96",
           "#ab63fa",
           "#FFA15A",
           "#19d3f3",
           "#FF6692",
           "#B6E880",
           "#FF97FF",
           "#FECB52"
          ],
          "font": {
           "color": "#2a3f5f"
          },
          "geo": {
           "bgcolor": "white",
           "lakecolor": "white",
           "landcolor": "#E5ECF6",
           "showlakes": true,
           "showland": true,
           "subunitcolor": "white"
          },
          "hoverlabel": {
           "align": "left"
          },
          "hovermode": "closest",
          "mapbox": {
           "style": "light"
          },
          "paper_bgcolor": "white",
          "plot_bgcolor": "#E5ECF6",
          "polar": {
           "angularaxis": {
            "gridcolor": "white",
            "linecolor": "white",
            "ticks": ""
           },
           "bgcolor": "#E5ECF6",
           "radialaxis": {
            "gridcolor": "white",
            "linecolor": "white",
            "ticks": ""
           }
          },
          "scene": {
           "xaxis": {
            "backgroundcolor": "#E5ECF6",
            "gridcolor": "white",
            "gridwidth": 2,
            "linecolor": "white",
            "showbackground": true,
            "ticks": "",
            "zerolinecolor": "white"
           },
           "yaxis": {
            "backgroundcolor": "#E5ECF6",
            "gridcolor": "white",
            "gridwidth": 2,
            "linecolor": "white",
            "showbackground": true,
            "ticks": "",
            "zerolinecolor": "white"
           },
           "zaxis": {
            "backgroundcolor": "#E5ECF6",
            "gridcolor": "white",
            "gridwidth": 2,
            "linecolor": "white",
            "showbackground": true,
            "ticks": "",
            "zerolinecolor": "white"
           }
          },
          "shapedefaults": {
           "line": {
            "color": "#2a3f5f"
           }
          },
          "ternary": {
           "aaxis": {
            "gridcolor": "white",
            "linecolor": "white",
            "ticks": ""
           },
           "baxis": {
            "gridcolor": "white",
            "linecolor": "white",
            "ticks": ""
           },
           "bgcolor": "#E5ECF6",
           "caxis": {
            "gridcolor": "white",
            "linecolor": "white",
            "ticks": ""
           }
          },
          "title": {
           "x": 0.05
          },
          "xaxis": {
           "automargin": true,
           "gridcolor": "white",
           "linecolor": "white",
           "ticks": "",
           "title": {
            "standoff": 15
           },
           "zerolinecolor": "white",
           "zerolinewidth": 2
          },
          "yaxis": {
           "automargin": true,
           "gridcolor": "white",
           "linecolor": "white",
           "ticks": "",
           "title": {
            "standoff": 15
           },
           "zerolinecolor": "white",
           "zerolinewidth": 2
          }
         }
        },
        "title": {
         "text": "Median value of PM2.5 by station over time per hour",
         "x": 0.5,
         "xanchor": "center",
         "y": 0.95,
         "yanchor": "top"
        },
        "xaxis": {
         "anchor": "y",
         "domain": [
          0,
          1
         ],
         "dtick": 2,
         "tickmode": "linear",
         "title": {
          "text": "hour"
         }
        },
        "yaxis": {
         "anchor": "x",
         "domain": [
          0,
          1
         ],
         "title": {
          "text": "PM2.5"
         }
        }
       }
      }
     },
     "metadata": {},
     "output_type": "display_data"
    }
   ],
   "source": [
    "col = 'hour'\n",
    "fig = px.line(df[[col, \"target\", \"station\"]].groupby([col, \"station\"]).mean().reset_index(),\n",
    "              x=col,\n",
    "              y=\"target\",\n",
    "              color=\"station\",\n",
    "              color_discrete_sequence=px.colors.qualitative.Bold)\n",
    "fig.update_xaxes(\n",
    "    tickmode = 'linear',\n",
    "    dtick = 2\n",
    ")\n",
    "fig.update_layout(\n",
    "    title={\n",
    "        'text': \"Median value of PM2.5 by station over time per \" + str(col),\n",
    "        'x': 0.5,\n",
    "        'y': 0.95, # adjust the y-coordinate to move the title up or down\n",
    "        'xanchor': 'center',\n",
    "        'yanchor': 'top'})\n",
    "fig.update_xaxes(title=str(col))\n",
    "fig.update_yaxes(title=\"PM2.5\")\n",
    "fig.show()"
   ]
  },
  {
   "cell_type": "code",
   "execution_count": 19,
   "id": "18781882",
   "metadata": {},
   "outputs": [
    {
     "data": {
      "application/vnd.plotly.v1+json": {
       "config": {
        "plotlyServerURL": "https://plot.ly"
       },
       "data": [
        {
         "hovertemplate": "station=Aotizhongxin<br>day_week=%{x}<br>target=%{y}<extra></extra>",
         "legendgroup": "Aotizhongxin",
         "line": {
          "color": "rgb(127, 60, 141)",
          "dash": "solid"
         },
         "marker": {
          "symbol": "circle"
         },
         "mode": "lines",
         "name": "Aotizhongxin",
         "orientation": "v",
         "showlegend": true,
         "type": "scatter",
         "x": [
          "Monday",
          "Tuesday",
          "Wednesday",
          "Thursday",
          "Friday",
          "Saturday",
          "Sunday"
         ],
         "xaxis": "x",
         "y": [
          58,
          61,
          57,
          61,
          63,
          66,
          61
         ],
         "yaxis": "y"
        },
        {
         "hovertemplate": "station=Changping<br>day_week=%{x}<br>target=%{y}<extra></extra>",
         "legendgroup": "Changping",
         "line": {
          "color": "rgb(17, 165, 121)",
          "dash": "solid"
         },
         "marker": {
          "symbol": "circle"
         },
         "mode": "lines",
         "name": "Changping",
         "orientation": "v",
         "showlegend": true,
         "type": "scatter",
         "x": [
          "Monday",
          "Tuesday",
          "Wednesday",
          "Thursday",
          "Friday",
          "Saturday",
          "Sunday"
         ],
         "xaxis": "x",
         "y": [
          47,
          48,
          45,
          48,
          52,
          54,
          47
         ],
         "yaxis": "y"
        },
        {
         "hovertemplate": "station=Dingling<br>day_week=%{x}<br>target=%{y}<extra></extra>",
         "legendgroup": "Dingling",
         "line": {
          "color": "rgb(57, 105, 172)",
          "dash": "solid"
         },
         "marker": {
          "symbol": "circle"
         },
         "mode": "lines",
         "name": "Dingling",
         "orientation": "v",
         "showlegend": true,
         "type": "scatter",
         "x": [
          "Monday",
          "Tuesday",
          "Wednesday",
          "Thursday",
          "Friday",
          "Saturday",
          "Sunday"
         ],
         "xaxis": "x",
         "y": [
          38,
          41,
          41,
          41,
          43,
          48,
          40
         ],
         "yaxis": "y"
        },
        {
         "hovertemplate": "station=Dongsi<br>day_week=%{x}<br>target=%{y}<extra></extra>",
         "legendgroup": "Dongsi",
         "line": {
          "color": "rgb(242, 183, 1)",
          "dash": "solid"
         },
         "marker": {
          "symbol": "circle"
         },
         "mode": "lines",
         "name": "Dongsi",
         "orientation": "v",
         "showlegend": true,
         "type": "scatter",
         "x": [
          "Monday",
          "Tuesday",
          "Wednesday",
          "Thursday",
          "Friday",
          "Saturday",
          "Sunday"
         ],
         "xaxis": "x",
         "y": [
          60,
          62,
          58,
          62,
          67,
          68,
          62
         ],
         "yaxis": "y"
        },
        {
         "hovertemplate": "station=Guanyuan<br>day_week=%{x}<br>target=%{y}<extra></extra>",
         "legendgroup": "Guanyuan",
         "line": {
          "color": "rgb(231, 63, 116)",
          "dash": "solid"
         },
         "marker": {
          "symbol": "circle"
         },
         "mode": "lines",
         "name": "Guanyuan",
         "orientation": "v",
         "showlegend": true,
         "type": "scatter",
         "x": [
          "Monday",
          "Tuesday",
          "Wednesday",
          "Thursday",
          "Friday",
          "Saturday",
          "Sunday"
         ],
         "xaxis": "x",
         "y": [
          57,
          60,
          56,
          60,
          63,
          65,
          60
         ],
         "yaxis": "y"
        },
        {
         "hovertemplate": "station=Gucheng<br>day_week=%{x}<br>target=%{y}<extra></extra>",
         "legendgroup": "Gucheng",
         "line": {
          "color": "rgb(128, 186, 90)",
          "dash": "solid"
         },
         "marker": {
          "symbol": "circle"
         },
         "mode": "lines",
         "name": "Gucheng",
         "orientation": "v",
         "showlegend": true,
         "type": "scatter",
         "x": [
          "Monday",
          "Tuesday",
          "Wednesday",
          "Thursday",
          "Friday",
          "Saturday",
          "Sunday"
         ],
         "xaxis": "x",
         "y": [
          59,
          60,
          57,
          60,
          64,
          64,
          60
         ],
         "yaxis": "y"
        },
        {
         "hovertemplate": "station=Huairou<br>day_week=%{x}<br>target=%{y}<extra></extra>",
         "legendgroup": "Huairou",
         "line": {
          "color": "rgb(230, 131, 16)",
          "dash": "solid"
         },
         "marker": {
          "symbol": "circle"
         },
         "mode": "lines",
         "name": "Huairou",
         "orientation": "v",
         "showlegend": true,
         "type": "scatter",
         "x": [
          "Monday",
          "Tuesday",
          "Wednesday",
          "Thursday",
          "Friday",
          "Saturday",
          "Sunday"
         ],
         "xaxis": "x",
         "y": [
          47,
          48,
          47,
          48,
          48,
          52,
          48
         ],
         "yaxis": "y"
        },
        {
         "hovertemplate": "station=Nongzhanguan<br>day_week=%{x}<br>target=%{y}<extra></extra>",
         "legendgroup": "Nongzhanguan",
         "line": {
          "color": "rgb(0, 134, 149)",
          "dash": "solid"
         },
         "marker": {
          "symbol": "circle"
         },
         "mode": "lines",
         "name": "Nongzhanguan",
         "orientation": "v",
         "showlegend": true,
         "type": "scatter",
         "x": [
          "Monday",
          "Tuesday",
          "Wednesday",
          "Thursday",
          "Friday",
          "Saturday",
          "Sunday"
         ],
         "xaxis": "x",
         "y": [
          58,
          60,
          55,
          60,
          62,
          66,
          60
         ],
         "yaxis": "y"
        },
        {
         "hovertemplate": "station=Shunyi<br>day_week=%{x}<br>target=%{y}<extra></extra>",
         "legendgroup": "Shunyi",
         "line": {
          "color": "rgb(207, 28, 144)",
          "dash": "solid"
         },
         "marker": {
          "symbol": "circle"
         },
         "mode": "lines",
         "name": "Shunyi",
         "orientation": "v",
         "showlegend": true,
         "type": "scatter",
         "x": [
          "Monday",
          "Tuesday",
          "Wednesday",
          "Thursday",
          "Friday",
          "Saturday",
          "Sunday"
         ],
         "xaxis": "x",
         "y": [
          54,
          56,
          56,
          56,
          59,
          60,
          56
         ],
         "yaxis": "y"
        },
        {
         "hovertemplate": "station=Tiantan<br>day_week=%{x}<br>target=%{y}<extra></extra>",
         "legendgroup": "Tiantan",
         "line": {
          "color": "rgb(249, 123, 114)",
          "dash": "solid"
         },
         "marker": {
          "symbol": "circle"
         },
         "mode": "lines",
         "name": "Tiantan",
         "orientation": "v",
         "showlegend": true,
         "type": "scatter",
         "x": [
          "Monday",
          "Tuesday",
          "Wednesday",
          "Thursday",
          "Friday",
          "Saturday",
          "Sunday"
         ],
         "xaxis": "x",
         "y": [
          59,
          59,
          56,
          60,
          64,
          65,
          60
         ],
         "yaxis": "y"
        },
        {
         "hovertemplate": "station=Wanliu<br>day_week=%{x}<br>target=%{y}<extra></extra>",
         "legendgroup": "Wanliu",
         "line": {
          "color": "rgb(165, 170, 153)",
          "dash": "solid"
         },
         "marker": {
          "symbol": "circle"
         },
         "mode": "lines",
         "name": "Wanliu",
         "orientation": "v",
         "showlegend": true,
         "type": "scatter",
         "x": [
          "Monday",
          "Tuesday",
          "Wednesday",
          "Thursday",
          "Friday",
          "Saturday",
          "Sunday"
         ],
         "xaxis": "x",
         "y": [
          62,
          61,
          58,
          62,
          66,
          67,
          60.5
         ],
         "yaxis": "y"
        },
        {
         "hovertemplate": "station=Wanshouxigong<br>day_week=%{x}<br>target=%{y}<extra></extra>",
         "legendgroup": "Wanshouxigong",
         "line": {
          "color": "rgb(127, 60, 141)",
          "dash": "solid"
         },
         "marker": {
          "symbol": "circle"
         },
         "mode": "lines",
         "name": "Wanshouxigong",
         "orientation": "v",
         "showlegend": true,
         "type": "scatter",
         "x": [
          "Monday",
          "Tuesday",
          "Wednesday",
          "Thursday",
          "Friday",
          "Saturday",
          "Sunday"
         ],
         "xaxis": "x",
         "y": [
          60,
          61,
          56,
          61,
          65,
          64,
          60
         ],
         "yaxis": "y"
        }
       ],
       "layout": {
        "legend": {
         "title": {
          "text": "station"
         },
         "tracegroupgap": 0
        },
        "margin": {
         "t": 60
        },
        "template": {
         "data": {
          "bar": [
           {
            "error_x": {
             "color": "#2a3f5f"
            },
            "error_y": {
             "color": "#2a3f5f"
            },
            "marker": {
             "line": {
              "color": "#E5ECF6",
              "width": 0.5
             },
             "pattern": {
              "fillmode": "overlay",
              "size": 10,
              "solidity": 0.2
             }
            },
            "type": "bar"
           }
          ],
          "barpolar": [
           {
            "marker": {
             "line": {
              "color": "#E5ECF6",
              "width": 0.5
             },
             "pattern": {
              "fillmode": "overlay",
              "size": 10,
              "solidity": 0.2
             }
            },
            "type": "barpolar"
           }
          ],
          "carpet": [
           {
            "aaxis": {
             "endlinecolor": "#2a3f5f",
             "gridcolor": "white",
             "linecolor": "white",
             "minorgridcolor": "white",
             "startlinecolor": "#2a3f5f"
            },
            "baxis": {
             "endlinecolor": "#2a3f5f",
             "gridcolor": "white",
             "linecolor": "white",
             "minorgridcolor": "white",
             "startlinecolor": "#2a3f5f"
            },
            "type": "carpet"
           }
          ],
          "choropleth": [
           {
            "colorbar": {
             "outlinewidth": 0,
             "ticks": ""
            },
            "type": "choropleth"
           }
          ],
          "contour": [
           {
            "colorbar": {
             "outlinewidth": 0,
             "ticks": ""
            },
            "colorscale": [
             [
              0,
              "#0d0887"
             ],
             [
              0.1111111111111111,
              "#46039f"
             ],
             [
              0.2222222222222222,
              "#7201a8"
             ],
             [
              0.3333333333333333,
              "#9c179e"
             ],
             [
              0.4444444444444444,
              "#bd3786"
             ],
             [
              0.5555555555555556,
              "#d8576b"
             ],
             [
              0.6666666666666666,
              "#ed7953"
             ],
             [
              0.7777777777777778,
              "#fb9f3a"
             ],
             [
              0.8888888888888888,
              "#fdca26"
             ],
             [
              1,
              "#f0f921"
             ]
            ],
            "type": "contour"
           }
          ],
          "contourcarpet": [
           {
            "colorbar": {
             "outlinewidth": 0,
             "ticks": ""
            },
            "type": "contourcarpet"
           }
          ],
          "heatmap": [
           {
            "colorbar": {
             "outlinewidth": 0,
             "ticks": ""
            },
            "colorscale": [
             [
              0,
              "#0d0887"
             ],
             [
              0.1111111111111111,
              "#46039f"
             ],
             [
              0.2222222222222222,
              "#7201a8"
             ],
             [
              0.3333333333333333,
              "#9c179e"
             ],
             [
              0.4444444444444444,
              "#bd3786"
             ],
             [
              0.5555555555555556,
              "#d8576b"
             ],
             [
              0.6666666666666666,
              "#ed7953"
             ],
             [
              0.7777777777777778,
              "#fb9f3a"
             ],
             [
              0.8888888888888888,
              "#fdca26"
             ],
             [
              1,
              "#f0f921"
             ]
            ],
            "type": "heatmap"
           }
          ],
          "heatmapgl": [
           {
            "colorbar": {
             "outlinewidth": 0,
             "ticks": ""
            },
            "colorscale": [
             [
              0,
              "#0d0887"
             ],
             [
              0.1111111111111111,
              "#46039f"
             ],
             [
              0.2222222222222222,
              "#7201a8"
             ],
             [
              0.3333333333333333,
              "#9c179e"
             ],
             [
              0.4444444444444444,
              "#bd3786"
             ],
             [
              0.5555555555555556,
              "#d8576b"
             ],
             [
              0.6666666666666666,
              "#ed7953"
             ],
             [
              0.7777777777777778,
              "#fb9f3a"
             ],
             [
              0.8888888888888888,
              "#fdca26"
             ],
             [
              1,
              "#f0f921"
             ]
            ],
            "type": "heatmapgl"
           }
          ],
          "histogram": [
           {
            "marker": {
             "pattern": {
              "fillmode": "overlay",
              "size": 10,
              "solidity": 0.2
             }
            },
            "type": "histogram"
           }
          ],
          "histogram2d": [
           {
            "colorbar": {
             "outlinewidth": 0,
             "ticks": ""
            },
            "colorscale": [
             [
              0,
              "#0d0887"
             ],
             [
              0.1111111111111111,
              "#46039f"
             ],
             [
              0.2222222222222222,
              "#7201a8"
             ],
             [
              0.3333333333333333,
              "#9c179e"
             ],
             [
              0.4444444444444444,
              "#bd3786"
             ],
             [
              0.5555555555555556,
              "#d8576b"
             ],
             [
              0.6666666666666666,
              "#ed7953"
             ],
             [
              0.7777777777777778,
              "#fb9f3a"
             ],
             [
              0.8888888888888888,
              "#fdca26"
             ],
             [
              1,
              "#f0f921"
             ]
            ],
            "type": "histogram2d"
           }
          ],
          "histogram2dcontour": [
           {
            "colorbar": {
             "outlinewidth": 0,
             "ticks": ""
            },
            "colorscale": [
             [
              0,
              "#0d0887"
             ],
             [
              0.1111111111111111,
              "#46039f"
             ],
             [
              0.2222222222222222,
              "#7201a8"
             ],
             [
              0.3333333333333333,
              "#9c179e"
             ],
             [
              0.4444444444444444,
              "#bd3786"
             ],
             [
              0.5555555555555556,
              "#d8576b"
             ],
             [
              0.6666666666666666,
              "#ed7953"
             ],
             [
              0.7777777777777778,
              "#fb9f3a"
             ],
             [
              0.8888888888888888,
              "#fdca26"
             ],
             [
              1,
              "#f0f921"
             ]
            ],
            "type": "histogram2dcontour"
           }
          ],
          "mesh3d": [
           {
            "colorbar": {
             "outlinewidth": 0,
             "ticks": ""
            },
            "type": "mesh3d"
           }
          ],
          "parcoords": [
           {
            "line": {
             "colorbar": {
              "outlinewidth": 0,
              "ticks": ""
             }
            },
            "type": "parcoords"
           }
          ],
          "pie": [
           {
            "automargin": true,
            "type": "pie"
           }
          ],
          "scatter": [
           {
            "fillpattern": {
             "fillmode": "overlay",
             "size": 10,
             "solidity": 0.2
            },
            "type": "scatter"
           }
          ],
          "scatter3d": [
           {
            "line": {
             "colorbar": {
              "outlinewidth": 0,
              "ticks": ""
             }
            },
            "marker": {
             "colorbar": {
              "outlinewidth": 0,
              "ticks": ""
             }
            },
            "type": "scatter3d"
           }
          ],
          "scattercarpet": [
           {
            "marker": {
             "colorbar": {
              "outlinewidth": 0,
              "ticks": ""
             }
            },
            "type": "scattercarpet"
           }
          ],
          "scattergeo": [
           {
            "marker": {
             "colorbar": {
              "outlinewidth": 0,
              "ticks": ""
             }
            },
            "type": "scattergeo"
           }
          ],
          "scattergl": [
           {
            "marker": {
             "colorbar": {
              "outlinewidth": 0,
              "ticks": ""
             }
            },
            "type": "scattergl"
           }
          ],
          "scattermapbox": [
           {
            "marker": {
             "colorbar": {
              "outlinewidth": 0,
              "ticks": ""
             }
            },
            "type": "scattermapbox"
           }
          ],
          "scatterpolar": [
           {
            "marker": {
             "colorbar": {
              "outlinewidth": 0,
              "ticks": ""
             }
            },
            "type": "scatterpolar"
           }
          ],
          "scatterpolargl": [
           {
            "marker": {
             "colorbar": {
              "outlinewidth": 0,
              "ticks": ""
             }
            },
            "type": "scatterpolargl"
           }
          ],
          "scatterternary": [
           {
            "marker": {
             "colorbar": {
              "outlinewidth": 0,
              "ticks": ""
             }
            },
            "type": "scatterternary"
           }
          ],
          "surface": [
           {
            "colorbar": {
             "outlinewidth": 0,
             "ticks": ""
            },
            "colorscale": [
             [
              0,
              "#0d0887"
             ],
             [
              0.1111111111111111,
              "#46039f"
             ],
             [
              0.2222222222222222,
              "#7201a8"
             ],
             [
              0.3333333333333333,
              "#9c179e"
             ],
             [
              0.4444444444444444,
              "#bd3786"
             ],
             [
              0.5555555555555556,
              "#d8576b"
             ],
             [
              0.6666666666666666,
              "#ed7953"
             ],
             [
              0.7777777777777778,
              "#fb9f3a"
             ],
             [
              0.8888888888888888,
              "#fdca26"
             ],
             [
              1,
              "#f0f921"
             ]
            ],
            "type": "surface"
           }
          ],
          "table": [
           {
            "cells": {
             "fill": {
              "color": "#EBF0F8"
             },
             "line": {
              "color": "white"
             }
            },
            "header": {
             "fill": {
              "color": "#C8D4E3"
             },
             "line": {
              "color": "white"
             }
            },
            "type": "table"
           }
          ]
         },
         "layout": {
          "annotationdefaults": {
           "arrowcolor": "#2a3f5f",
           "arrowhead": 0,
           "arrowwidth": 1
          },
          "autotypenumbers": "strict",
          "coloraxis": {
           "colorbar": {
            "outlinewidth": 0,
            "ticks": ""
           }
          },
          "colorscale": {
           "diverging": [
            [
             0,
             "#8e0152"
            ],
            [
             0.1,
             "#c51b7d"
            ],
            [
             0.2,
             "#de77ae"
            ],
            [
             0.3,
             "#f1b6da"
            ],
            [
             0.4,
             "#fde0ef"
            ],
            [
             0.5,
             "#f7f7f7"
            ],
            [
             0.6,
             "#e6f5d0"
            ],
            [
             0.7,
             "#b8e186"
            ],
            [
             0.8,
             "#7fbc41"
            ],
            [
             0.9,
             "#4d9221"
            ],
            [
             1,
             "#276419"
            ]
           ],
           "sequential": [
            [
             0,
             "#0d0887"
            ],
            [
             0.1111111111111111,
             "#46039f"
            ],
            [
             0.2222222222222222,
             "#7201a8"
            ],
            [
             0.3333333333333333,
             "#9c179e"
            ],
            [
             0.4444444444444444,
             "#bd3786"
            ],
            [
             0.5555555555555556,
             "#d8576b"
            ],
            [
             0.6666666666666666,
             "#ed7953"
            ],
            [
             0.7777777777777778,
             "#fb9f3a"
            ],
            [
             0.8888888888888888,
             "#fdca26"
            ],
            [
             1,
             "#f0f921"
            ]
           ],
           "sequentialminus": [
            [
             0,
             "#0d0887"
            ],
            [
             0.1111111111111111,
             "#46039f"
            ],
            [
             0.2222222222222222,
             "#7201a8"
            ],
            [
             0.3333333333333333,
             "#9c179e"
            ],
            [
             0.4444444444444444,
             "#bd3786"
            ],
            [
             0.5555555555555556,
             "#d8576b"
            ],
            [
             0.6666666666666666,
             "#ed7953"
            ],
            [
             0.7777777777777778,
             "#fb9f3a"
            ],
            [
             0.8888888888888888,
             "#fdca26"
            ],
            [
             1,
             "#f0f921"
            ]
           ]
          },
          "colorway": [
           "#636efa",
           "#EF553B",
           "#00cc96",
           "#ab63fa",
           "#FFA15A",
           "#19d3f3",
           "#FF6692",
           "#B6E880",
           "#FF97FF",
           "#FECB52"
          ],
          "font": {
           "color": "#2a3f5f"
          },
          "geo": {
           "bgcolor": "white",
           "lakecolor": "white",
           "landcolor": "#E5ECF6",
           "showlakes": true,
           "showland": true,
           "subunitcolor": "white"
          },
          "hoverlabel": {
           "align": "left"
          },
          "hovermode": "closest",
          "mapbox": {
           "style": "light"
          },
          "paper_bgcolor": "white",
          "plot_bgcolor": "#E5ECF6",
          "polar": {
           "angularaxis": {
            "gridcolor": "white",
            "linecolor": "white",
            "ticks": ""
           },
           "bgcolor": "#E5ECF6",
           "radialaxis": {
            "gridcolor": "white",
            "linecolor": "white",
            "ticks": ""
           }
          },
          "scene": {
           "xaxis": {
            "backgroundcolor": "#E5ECF6",
            "gridcolor": "white",
            "gridwidth": 2,
            "linecolor": "white",
            "showbackground": true,
            "ticks": "",
            "zerolinecolor": "white"
           },
           "yaxis": {
            "backgroundcolor": "#E5ECF6",
            "gridcolor": "white",
            "gridwidth": 2,
            "linecolor": "white",
            "showbackground": true,
            "ticks": "",
            "zerolinecolor": "white"
           },
           "zaxis": {
            "backgroundcolor": "#E5ECF6",
            "gridcolor": "white",
            "gridwidth": 2,
            "linecolor": "white",
            "showbackground": true,
            "ticks": "",
            "zerolinecolor": "white"
           }
          },
          "shapedefaults": {
           "line": {
            "color": "#2a3f5f"
           }
          },
          "ternary": {
           "aaxis": {
            "gridcolor": "white",
            "linecolor": "white",
            "ticks": ""
           },
           "baxis": {
            "gridcolor": "white",
            "linecolor": "white",
            "ticks": ""
           },
           "bgcolor": "#E5ECF6",
           "caxis": {
            "gridcolor": "white",
            "linecolor": "white",
            "ticks": ""
           }
          },
          "title": {
           "x": 0.05
          },
          "xaxis": {
           "automargin": true,
           "gridcolor": "white",
           "linecolor": "white",
           "ticks": "",
           "title": {
            "standoff": 15
           },
           "zerolinecolor": "white",
           "zerolinewidth": 2
          },
          "yaxis": {
           "automargin": true,
           "gridcolor": "white",
           "linecolor": "white",
           "ticks": "",
           "title": {
            "standoff": 15
           },
           "zerolinecolor": "white",
           "zerolinewidth": 2
          }
         }
        },
        "title": {
         "text": "Median value of PM2.5 by station over time per day of the week",
         "x": 0.5,
         "xanchor": "center",
         "y": 0.95,
         "yanchor": "top"
        },
        "xaxis": {
         "anchor": "y",
         "domain": [
          0,
          1
         ],
         "title": {
          "text": "day of the week"
         }
        },
        "yaxis": {
         "anchor": "x",
         "domain": [
          0,
          1
         ],
         "title": {
          "text": "PM2.5"
         }
        }
       }
      }
     },
     "metadata": {},
     "output_type": "display_data"
    }
   ],
   "source": [
    "df['day_week'] = pd.to_datetime(df['Date-time']).dt.day_name()\n",
    "ordered_days = ['Monday', 'Tuesday', 'Wednesday', 'Thursday', 'Friday', 'Saturday', 'Sunday']\n",
    "df['day_week'] = pd.Categorical(df['day_week'], categories=ordered_days, ordered=True)\n",
    "\n",
    "col = 'day_week'\n",
    "fig = px.line(df[[col, \"target\", \"station\"]].groupby([col, \"station\"]).median().reset_index(),\n",
    "              x=col,\n",
    "              y=\"target\",\n",
    "              color=\"station\",\n",
    "              color_discrete_sequence=px.colors.qualitative.Bold)\n",
    "fig.update_layout(\n",
    "    title={\n",
    "        'text': \"Median value of PM2.5 by station over time per day of the week\",\n",
    "        'x': 0.5,\n",
    "        'y': 0.95, # adjust the y-coordinate to move the title up or down\n",
    "        'xanchor': 'center',\n",
    "        'yanchor': 'top'})\n",
    "fig.update_xaxes(title='day of the week')\n",
    "fig.update_yaxes(title=\"PM2.5\")\n",
    "fig.show()"
   ]
  },
  {
   "cell_type": "markdown",
   "id": "d5e3f983",
   "metadata": {},
   "source": [
    "We can see that, for each variable, all stations tend to behave similarly through time. In the first plot by year, we see that fine dust values have tended to decrease as years passed. As for the months, February is the month with the highest amount of fine dust and August has the least amount. As for the hours, we see that there is a small peak at 10 a.m. and finally at 11 p.m. is where there the values go up. Finally, by day of the week, it is on Fridays and Saturdays where the values are highest. We also see a small decrease on Wednesdays in most stations. It should be clarified that although this initial analysis is useful to get an idea of the data, it should be verified that biases (caused by imbalanced data, for example) do not affect the analysis and the understanding obtained from the information given by the plots. \n",
    "\n",
    "Finally, we show a correlation plot of the numerical variables:"
   ]
  },
  {
   "cell_type": "code",
   "execution_count": 20,
   "id": "36b02b44",
   "metadata": {},
   "outputs": [
    {
     "data": {
      "image/png": "[encoded data removed]",
      "text/plain": [
       "<Figure size 1500x1000 with 2 Axes>"
      ]
     },
     "metadata": {},
     "output_type": "display_data"
    }
   ],
   "source": [
    "#Correlation map for the Wanliu station\n",
    "\n",
    "corr_map = round(df.corr(), 2) \n",
    "f, ax = plt.subplots(figsize=(15, 10))\n",
    "cmap = sns.diverging_palette(240, 10, n=9, as_cmap=True)\n",
    "sns.heatmap(corr_map, cmap=cmap, annot=True, vmax=1, center=0,\n",
    "            square=True, linewidth=.5);"
   ]
  },
  {
   "cell_type": "markdown",
   "id": "5c9ad6d7",
   "metadata": {},
   "source": [
    "As we see, the target variable is highly correlated to the PM10, SO2, NO2, CO and O3 features. They will likely be the most relevant features during the modeling. However, since PM10 is highly related to PM2.5, we should not use it in our modelization.\n",
    "\n",
    "On the other hand, the features RAIN and hour have very low correlation with the target. They might not be relevant."
   ]
  },
  {
   "cell_type": "markdown",
   "id": "6adb6d61",
   "metadata": {},
   "source": [
    "## A first model\n",
    "\n",
    "Let's try a first pipeline on our data. We are using a standard scaler on the numerical columns, and a one-hot encoder on the categorical column."
   ]
  },
  {
   "cell_type": "code",
   "execution_count": 21,
   "id": "739a57de",
   "metadata": {},
   "outputs": [],
   "source": [
    "from problem import get_test_data\n",
    "\n",
    "data_train, labels_train = get_train_data()\n",
    "data_test, labels_test = get_test_data()"
   ]
  },
  {
   "cell_type": "code",
   "execution_count": 22,
   "id": "5ce85a2d",
   "metadata": {},
   "outputs": [],
   "source": [
    "data_train['Date-time'] = pd.to_datetime(data_train[\"Date-time\"])\n",
    "data_test['Date-time'] = pd.to_datetime(data_test[\"Date-time\"])\n",
    "\n",
    "# .... or you might want to remove the feature altogether \n",
    "\n",
    "data_train = data_train.drop(\"Date-time\", axis=1)\n",
    "data_test = data_test.drop(\"Date-time\", axis=1)\n"
   ]
  },
  {
   "cell_type": "code",
   "execution_count": 23,
   "id": "dc103732",
   "metadata": {},
   "outputs": [],
   "source": [
    "# Basic pipeline\n",
    "\n",
    "from sklearn.ensemble import RandomForestRegressor\n",
    "from sklearn.pipeline import Pipeline\n",
    "from sklearn.preprocessing import OneHotEncoder, StandardScaler\n",
    "from sklearn.compose import ColumnTransformer\n",
    "\n",
    "cat_cols = [\"station\"]\n",
    "num_cols = [\"month\", \"day\", \"hour\", \n",
    "            \"TEMP\", \"PRES\", \"DEWP\", \"RAIN\", \"wd\", \"WSPM\"]\n",
    "\n",
    "cat_pipeline = Pipeline([\n",
    "    (\"Encoder\", OneHotEncoder(handle_unknown='ignore')) \n",
    "])\n",
    "\n",
    "num_pipeline = Pipeline([\n",
    "    (\"Scaler\", StandardScaler()),\n",
    "])\n",
    "\n",
    "preprocessing = ColumnTransformer([\n",
    "    (\"categorical_preproc\", cat_pipeline, cat_cols),\n",
    "    (\"numerical_preproc\", num_pipeline, num_cols)\n",
    "])\n",
    "\n",
    "model = Pipeline([\n",
    "    (\"Pre-processing\", preprocessing),\n",
    "    (\"Regression\", RandomForestRegressor(n_estimators=100))\n",
    "])"
   ]
  },
  {
   "cell_type": "code",
   "execution_count": 24,
   "id": "994a55ce",
   "metadata": {},
   "outputs": [
    {
     "data": {
      "text/plain": [
       "0.23802981366713205"
      ]
     },
     "execution_count": 24,
     "metadata": {},
     "output_type": "execute_result"
    }
   ],
   "source": [
    "model.fit(data_train, labels_train)\n",
    "model.score(data_test, labels_test)"
   ]
  },
  {
   "cell_type": "markdown",
   "id": "4f9945e2",
   "metadata": {},
   "source": [
    "## Ramp submission"
   ]
  },
  {
   "cell_type": "code",
   "execution_count": 25,
   "id": "b851e4bf",
   "metadata": {},
   "outputs": [
    {
     "name": "stdout",
     "output_type": "stream",
     "text": [
      "<frozen importlib._bootstrap>:228: RuntimeWarning: scipy._lib.messagestream.MessageStream size changed, may indicate binary incompatibility. Expected 56 from C header, got 64 from PyObject\n",
      "\u001b[38;5;178m\u001b[1mTesting Quality of Air\u001b[0m\n",
      "\u001b[38;5;178m\u001b[1mReading train and test files from ./data/ ...\u001b[0m\n",
      "\u001b[38;5;178m\u001b[1mReading cv ...\u001b[0m\n",
      "\u001b[38;5;178m\u001b[1mTraining submissions/starting_kit ...\u001b[0m\n",
      "\u001b[38;5;178m\u001b[1mCV fold 0\u001b[0m\n",
      "\t\u001b[38;5;178m\u001b[1mscore    R2         MSE      time\u001b[0m\n",
      "\t\u001b[38;5;10m\u001b[1mtrain\u001b[0m  \u001b[38;5;10m\u001b[1m0.96\u001b[0m    \u001b[38;5;150m379.2928\u001b[0m  \u001b[38;5;150m0.328042\u001b[0m\n",
      "\t\u001b[38;5;12m\u001b[1mvalid\u001b[0m \u001b[38;5;12m\u001b[1m-0.55\u001b[0m   \u001b[38;5;105m6398.2434\u001b[0m  \u001b[38;5;105m0.040132\u001b[0m\n",
      "\t\u001b[38;5;1m\u001b[1mtest\u001b[0m  \u001b[38;5;1m\u001b[1m-0.04\u001b[0m  \u001b[38;5;218m12821.0374\u001b[0m  \u001b[38;5;218m0.036371\u001b[0m\n",
      "\u001b[38;5;178m\u001b[1mCV fold 1\u001b[0m\n",
      "\t\u001b[38;5;178m\u001b[1mscore    R2         MSE      time\u001b[0m\n",
      "\t\u001b[38;5;10m\u001b[1mtrain\u001b[0m  \u001b[38;5;10m\u001b[1m0.96\u001b[0m    \u001b[38;5;150m301.0036\u001b[0m  \u001b[38;5;150m0.353184\u001b[0m\n",
      "\t\u001b[38;5;12m\u001b[1mvalid\u001b[0m \u001b[38;5;12m\u001b[1m-3.03\u001b[0m  \u001b[38;5;105m11730.7788\u001b[0m  \u001b[38;5;105m0.043595\u001b[0m\n",
      "\t\u001b[38;5;1m\u001b[1mtest\u001b[0m  \u001b[38;5;1m\u001b[1m-0.04\u001b[0m  \u001b[38;5;218m12842.3792\u001b[0m  \u001b[38;5;218m0.039904\u001b[0m\n",
      "\u001b[38;5;178m\u001b[1mCV fold 2\u001b[0m\n",
      "\t\u001b[38;5;178m\u001b[1mscore    R2         MSE      time\u001b[0m\n",
      "\t\u001b[38;5;10m\u001b[1mtrain\u001b[0m  \u001b[38;5;10m\u001b[1m0.95\u001b[0m    \u001b[38;5;150m293.7507\u001b[0m  \u001b[38;5;150m0.480416\u001b[0m\n",
      "\t\u001b[38;5;12m\u001b[1mvalid\u001b[0m \u001b[38;5;12m\u001b[1m-0.82\u001b[0m   \u001b[38;5;105m7425.6845\u001b[0m  \u001b[38;5;105m0.048410\u001b[0m\n",
      "\t\u001b[38;5;1m\u001b[1mtest\u001b[0m  \u001b[38;5;1m\u001b[1m-0.02\u001b[0m  \u001b[38;5;218m12495.3814\u001b[0m  \u001b[38;5;218m0.040685\u001b[0m\n",
      "\u001b[38;5;178m\u001b[1mCV fold 3\u001b[0m\n",
      "\t\u001b[38;5;178m\u001b[1mscore    R2         MSE      time\u001b[0m\n",
      "\t\u001b[38;5;10m\u001b[1mtrain\u001b[0m  \u001b[38;5;10m\u001b[1m0.94\u001b[0m    \u001b[38;5;150m347.1067\u001b[0m  \u001b[38;5;150m0.641930\u001b[0m\n",
      "\t\u001b[38;5;12m\u001b[1mvalid\u001b[0m \u001b[38;5;12m\u001b[1m-1.60\u001b[0m   \u001b[38;5;105m8257.0124\u001b[0m  \u001b[38;5;105m0.058644\u001b[0m\n",
      "\t\u001b[38;5;1m\u001b[1mtest\u001b[0m  \u001b[38;5;1m\u001b[1m-0.03\u001b[0m  \u001b[38;5;218m12625.0604\u001b[0m  \u001b[38;5;218m0.045421\u001b[0m\n",
      "\u001b[38;5;178m\u001b[1mCV fold 4\u001b[0m\n",
      "\t\u001b[38;5;178m\u001b[1mscore    R2         MSE      time\u001b[0m\n",
      "\t\u001b[38;5;10m\u001b[1mtrain\u001b[0m  \u001b[38;5;10m\u001b[1m0.93\u001b[0m    \u001b[38;5;150m342.9749\u001b[0m  \u001b[38;5;150m0.843304\u001b[0m\n",
      "\t\u001b[38;5;12m\u001b[1mvalid\u001b[0m \u001b[38;5;12m\u001b[1m-0.55\u001b[0m   \u001b[38;5;105m9618.5566\u001b[0m  \u001b[38;5;105m0.070685\u001b[0m\n",
      "\t\u001b[38;5;1m\u001b[1mtest\u001b[0m  \u001b[38;5;1m\u001b[1m-0.03\u001b[0m  \u001b[38;5;218m12622.3916\u001b[0m  \u001b[38;5;218m0.044919\u001b[0m\n",
      "\u001b[38;5;178m\u001b[1m----------------------------\u001b[0m\n",
      "\u001b[38;5;178m\u001b[1mMean CV scores\u001b[0m\n",
      "\u001b[38;5;178m\u001b[1m----------------------------\u001b[0m\n",
      "\t\u001b[38;5;178m\u001b[1mscore             R2                     MSE        time\u001b[0m\n",
      "\t\u001b[38;5;10m\u001b[1mtrain\u001b[0m   \u001b[38;5;10m\u001b[1m0.95\u001b[0m \u001b[38;5;150m\u001b[38;5;150m\u001b[38;5;150m±\u001b[0m\u001b[0m\u001b[0m \u001b[38;5;150m0.012\u001b[0m     \u001b[38;5;150m332.8257\u001b[0m \u001b[38;5;150m\u001b[38;5;150m\u001b[38;5;150m±\u001b[0m\u001b[0m\u001b[0m \u001b[38;5;150m31.64062\u001b[0m  \u001b[38;5;150m0.5\u001b[0m \u001b[38;5;150m\u001b[38;5;150m\u001b[38;5;150m±\u001b[0m\u001b[0m\u001b[0m \u001b[38;5;150m0.19\u001b[0m\n",
      "\t\u001b[38;5;12m\u001b[1mvalid\u001b[0m  \u001b[38;5;12m\u001b[1m-1.31\u001b[0m \u001b[38;5;105m\u001b[38;5;105m\u001b[38;5;105m±\u001b[0m\u001b[0m\u001b[0m \u001b[38;5;105m0.942\u001b[0m  \u001b[38;5;105m8686.0551\u001b[0m \u001b[38;5;105m\u001b[38;5;105m\u001b[38;5;105m±\u001b[0m\u001b[0m\u001b[0m \u001b[38;5;105m1851.84207\u001b[0m  \u001b[38;5;105m0.1\u001b[0m \u001b[38;5;105m\u001b[38;5;105m\u001b[38;5;105m±\u001b[0m\u001b[0m\u001b[0m \u001b[38;5;105m0.01\u001b[0m\n",
      "\t\u001b[38;5;1m\u001b[1mtest\u001b[0m   \u001b[38;5;1m\u001b[1m-\u001b[38;5;218m\u001b[38;5;218m0.0\u001b[0m\u001b[0m3\u001b[0m \u001b[38;5;218m\u001b[38;5;218m\u001b[38;5;218m±\u001b[0m\u001b[0m\u001b[0m \u001b[38;5;218m\u001b[38;5;218m\u001b[38;5;218m0.0\u001b[0m\u001b[0m11\u001b[0m    \u001b[38;5;218m12681.25\u001b[0m \u001b[38;5;218m\u001b[38;5;218m\u001b[38;5;218m±\u001b[0m\u001b[0m\u001b[0m \u001b[38;5;218m131.66005\u001b[0m   \u001b[38;5;218m\u001b[38;5;218m0.0\u001b[0m\u001b[0m \u001b[38;5;218m\u001b[38;5;218m\u001b[38;5;218m±\u001b[0m\u001b[0m\u001b[0m \u001b[38;5;218m\u001b[38;5;218m0.0\u001b[0m\u001b[0m\n",
      "\u001b[38;5;178m\u001b[1m----------------------------\u001b[0m\n",
      "\u001b[38;5;178m\u001b[1mBagged scores\u001b[0m\n",
      "\u001b[38;5;178m\u001b[1m----------------------------\u001b[0m\n",
      "\t\u001b[38;5;178m\u001b[1mscore    R2         MSE\u001b[0m\n",
      "\t\u001b[38;5;12m\u001b[1mvalid\u001b[0m \u001b[38;5;12m\u001b[1m-1.06\u001b[0m   \u001b[38;5;105m8686.0551\u001b[0m\n",
      "\t\u001b[38;5;1m\u001b[1mtest\u001b[0m  \u001b[38;5;1m\u001b[1m-0.01\u001b[0m  \u001b[38;5;218m12431.0941\u001b[0m\n"
     ]
    }
   ],
   "source": [
    "!ramp-test --submission starting_kit  --quick-test      # to test the submission locally"
   ]
  }
 ],
 "metadata": {
  "kernelspec": {
   "display_name": "Python 3 (ipykernel)",
   "language": "python",
   "name": "python3"
  },
  "language_info": {
   "codemirror_mode": {
    "name": "ipython",
    "version": 3
   },
   "file_extension": ".py",
   "mimetype": "text/x-python",
   "name": "python",
   "nbconvert_exporter": "python",
   "pygments_lexer": "ipython3",
   "version": "3.9.12"
  },
  "vscode": {
   "interpreter": {
    "hash": "f9536b55bfb9378dc6c66f0d0ab12324a50b180b1476f0ea0b6d5b7b55d4ecf0"
   }
  }
 },
 "nbformat": 4,
 "nbformat_minor": 5
}
