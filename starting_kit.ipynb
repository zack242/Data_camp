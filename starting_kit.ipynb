{
  "cells": [
    {
      "cell_type": "markdown",
      "metadata": {
        "id": "lNQh-dhxPkR0"
      },
      "source": [
        "# **AIR QUALITY PREDICTION** "
      ]
    },
    {
      "cell_type": "markdown",
      "metadata": {
        "id": "bLvTDQhXPkR1"
      },
      "source": [
        "This data challenge was made by students of the Master 2 Data Science at Ecole Polytechnique for the data camp:\n",
        "\n",
        "-- image here-- ( IPP)\n",
        "\n",
        "$ \\textit{Authors : } $\n",
        "\n",
        "The data used for this challenge is the Beijing Multi-Site Air-Quality:\n",
        "\n",
        "    Dua, D. and Graff, C. (2019). UCI Machine Learning Repository [http://archive.ics.uci.edu/ml]. Irvine, CA: University of California, School of Information and Computer Science."
      ]
    },
    {
      "cell_type": "markdown",
      "source": [
        "img here ---- UCI"
      ],
      "metadata": {
        "id": "kpr8kahIa0PZ"
      }
    },
    {
      "cell_type": "markdown",
      "metadata": {
        "id": "c9FNOxvoPkR2"
      },
      "source": [
        "## I-) **Introduction** :\n",
        "\n",
        "###  1-) **Probleme statement**:\n",
        "\n",
        "#### **Worlwide air pollution**\n",
        "\n",
        "\n",
        "Air pollution is a major environmental concern, with detrimental effects on human health and the environment. Among various air pollutants, fine particulate matter (PM2.5) has been identified as a significant contributor to air pollution-related health problems. PM2.5 refers to tiny particles in the air that can be inhaled into the lungs, causing respiratory and cardiovascular problems, as well as contributing to other health problems such as asthma, chronic bronchitis, and heart disease.\n",
        "\n",
        "Air pollution is a leading cause of premature deaths and health problems worldwide. According to the World Health Organization (WHO), outdoor air pollution is responsible for an estimated 4.2 million deaths annually.In addition to its impact on human health, air pollution also has a significant economic cost, including healthcare expenses, lost productivity, and environmental damage. Therefore, addressing air pollution is a critical public health and environmental challenge, requiring effective policies and actions to reduce emissions and promote clean energy and sustainable development.\n",
        "\n",
        "\n",
        "#### **Goverment and data driven solution** :\n",
        "\n",
        "Governments worldwide have implemented various policies and initiatives to combat air pollution and promote clean air. Some of these include emission standards for vehicles and industrial sources, incentives for clean energy and public transportation, and measures to reduce outdoor burning and open waste disposal. International agreements like the Paris Agreement and the Sustainable Development Goals also aim to reduce greenhouse gas emissions and promote sustainable development. However, to effectively tackle air pollution, it's crucial to continuously monitor and assess air quality and identify effective strategies for emission reduction. The use of meteorological data can play a critical role in achieving this. By leveraging meteorological data and advanced analytics, we can gain valuable insights into air pollution patterns, identify sources and hotspots of pollution, and evaluate the effectiveness of policy interventions. Ultimately, by using data-driven solutions, we can address air pollution and promote a cleaner and healthier environment for all."
      ]
    },
    {
      "cell_type": "markdown",
      "metadata": {
        "id": "lger7R-dPkR3"
      },
      "source": [
        "Meteorological factors, such as temperature, humidity, wind speed, and precipitation, play a crucial role in the formation, dispersion, and transport of PM2.5. Therefore, predicting PM2.5 levels based on meteorological data can provide valuable insights for air quality management and public health protection.\n"
      ]
    },
    {
      "cell_type": "markdown",
      "metadata": {
        "id": "kIqAN_VpPkR3"
      },
      "source": [
        "## II-) **Data**\n",
        "\n",
        "## 1-)  **Description and utility for the challenge**\n",
        "For this challenge, participants will be using meteorological data from different stations in Beijing, which will be merged to create a comprehensive dataset. This is important because air pollution levels can vary significantly across different areas of a city, depending on factors such as traffic density, industrial activity, and weather patterns. By combining data from multiple stations, we can capture this variation and obtain a more accurate representation of air quality across the city. The merged dataset will include various meteorological variables such as temperature, humidity, wind speed, and precipitation, as well as PM2.5 concentrations, which will serve as the target variable for the predictive model. Participants will be tasked with developing a model that can accurately predict PM2.5 concentrations based on the available meteorological data, with the ultimate goal of identifying effective strategies for air pollution reduction and promoting public health and environmental sustainability. \n",
        "\n",
        "-- Image here--- ( beijing)\n",
        "\n",
        "## 2-) **Variables** : \n",
        "\n",
        "- year: year of data in this row\n",
        "- month: month of data in this row\n",
        "- day: day of data in this row\n",
        "- hour: hour of data in this row\n",
        "- PM2.5: PM2.5 concentration (ug/m^3) (This will be our target)\n",
        "- PM10: PM10 concentration (ug/m^3)\n",
        "- SO2: SO2 concentration (ug/m^3)\n",
        "- NO2: NO2 concentration (ug/m^3)\n",
        "- CO: CO concentration (ug/m^3)\n",
        "- O3: O3 concentration (ug/m^3)\n",
        "- TEMP: temperature (degree Celsius)\n",
        "- PRES: pressure (hPa)\n",
        "- DEWP: dew point temperature (degree Celsius)\n",
        "- RAIN: precipitation (mm)\n",
        "- wd: wind direction\n",
        "- WSPM: wind speed (m/s)\n",
        "- station: name of the air-quality monitoring site\n",
        "\n"
      ]
    },
    {
      "cell_type": "markdown",
      "metadata": {
        "id": "27YIphPyPkR3"
      },
      "source": [
        "### 3-) Data preprocesssing :"
      ]
    },
    {
      "cell_type": "markdown",
      "metadata": {
        "id": "rHdx5OyVPkR3"
      },
      "source": [
        "### I-) Data Exploration"
      ]
    },
    {
      "cell_type": "markdown",
      "metadata": {
        "id": "tnMvWzPZPkR4"
      },
      "source": []
    }
  ],
  "metadata": {
    "kernelspec": {
      "display_name": "ramp-solar-wind",
      "language": "python",
      "name": "python3"
    },
    "language_info": {
      "codemirror_mode": {
        "name": "ipython",
        "version": 3
      },
      "file_extension": ".py",
      "mimetype": "text/x-python",
      "name": "python",
      "nbconvert_exporter": "python",
      "pygments_lexer": "ipython3",
      "version": "3.10.8"
    },
    "orig_nbformat": 4,
    "vscode": {
      "interpreter": {
        "hash": "a8f2ed5c1097e626222dfa90ef0a85c0e2b512481d9a034204c069e137047164"
      }
    },
    "colab": {
      "provenance": []
    }
  },
  "nbformat": 4,
  "nbformat_minor": 0
}